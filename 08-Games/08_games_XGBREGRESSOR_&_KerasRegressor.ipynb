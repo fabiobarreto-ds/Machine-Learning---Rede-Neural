{
  "metadata": {
    "kernelspec": {
      "language": "python",
      "display_name": "Python 3",
      "name": "python3"
    },
    "language_info": {
      "name": "python",
      "version": "3.7.12",
      "mimetype": "text/x-python",
      "codemirror_mode": {
        "name": "ipython",
        "version": 3
      },
      "pygments_lexer": "ipython3",
      "nbconvert_exporter": "python",
      "file_extension": ".py"
    },
    "colab": {
      "provenance": []
    }
  },
  "nbformat_minor": 0,
  "nbformat": 4,
  "cells": [
    {
      "cell_type": "markdown",
      "source": [
        "\n",
        "Ao lado dos campos: Nome, Plataforma, Ano de Lançamento, Gênero, Editora, Vendas NA , Vendas da UE , Vendas JP , Outras Vendas, Vendas Globais, temos:-\n",
        "\n",
        "Critic_score - Pontuação agregada compilada pela equipe do Metacritic\n",
        "\n",
        "Contagem de críticos - O número de críticos usados para criar a pontuação da crítica\n",
        "\n",
        "User_score - Pontuação dos assinantes do Metacritic\n",
        "\n",
        "Contagem de usuários - Número de usuários que deram a pontuação do usuário\n",
        "\n",
        "Desenvolvedor - Parte responsável pela criação do jogo\n",
        "\n",
        "Classificação - As classificações ESRB | E=Todos os públicos - E10+ = Maiores de 10 anos | T = Acima de 13 anos |  M = Acima de 17 anos | AO = Adultos | RP = Não foi rotulado\n",
        "\n",
        "Reconhecimentos\n",
        "\n",
        "Este repositório, https://github.com/wtamu-cisresearch/scraper , após alguns ajustes funcionou extremamente bem!"
      ],
      "metadata": {
        "id": "u_y6wN7zG-LR"
      }
    },
    {
      "cell_type": "markdown",
      "source": [
        "## **Importando os dados:**"
      ],
      "metadata": {
        "id": "OwXbVRSXjsES"
      }
    },
    {
      "cell_type": "code",
      "source": [
        "import numpy as np\n",
        "import pandas as pd\n",
        "import seaborn as sns\n",
        "import matplotlib.pyplot as plt\n",
        "from xgboost import XGBRegressor\n",
        "from sklearn.pipeline import Pipeline\n",
        "from sklearn.impute import SimpleImputer\n",
        "from sklearn.model_selection import KFold\n",
        "from sklearn.compose import ColumnTransformer\n",
        "from sklearn.model_selection import train_test_split\n",
        "from sklearn.metrics import r2_score, mean_absolute_error, mean_squared_error\n",
        "from sklearn.preprocessing import StandardScaler, OneHotEncoder, OrdinalEncoder\n",
        "from sklearn.model_selection import GridSearchCV, StratifiedKFold, train_test_split\n",
        "\n",
        "# desabilita os warnings\n",
        "import warnings\n",
        "warnings.filterwarnings('ignore')\n"
      ],
      "metadata": {
        "_cell_guid": "b1076dfc-b9ad-4769-8c92-a6c4dae69d19",
        "_uuid": "8f2839f25d086af736a60e9eeb907d3b93b6e0e5",
        "id": "9eS2aK0cc8ah",
        "execution": {
          "iopub.status.busy": "2022-08-15T23:00:40.183235Z",
          "iopub.execute_input": "2022-08-15T23:00:40.183649Z",
          "iopub.status.idle": "2022-08-15T23:00:41.942648Z",
          "shell.execute_reply.started": "2022-08-15T23:00:40.183615Z",
          "shell.execute_reply": "2022-08-15T23:00:41.941474Z"
        },
        "trusted": true
      },
      "execution_count": null,
      "outputs": []
    },
    {
      "cell_type": "code",
      "source": [
        "df = pd.read_csv(\"games.csv\")"
      ],
      "metadata": {
        "id": "VLlTKVwCc8au",
        "execution": {
          "iopub.status.busy": "2022-08-15T23:09:21.868346Z",
          "iopub.execute_input": "2022-08-15T23:09:21.868907Z",
          "iopub.status.idle": "2022-08-15T23:09:21.923636Z",
          "shell.execute_reply.started": "2022-08-15T23:09:21.868868Z",
          "shell.execute_reply": "2022-08-15T23:09:21.922381Z"
        },
        "trusted": true
      },
      "execution_count": null,
      "outputs": []
    },
    {
      "cell_type": "code",
      "source": [
        "df"
      ],
      "metadata": {
        "id": "iu3RkSRbc8az",
        "outputId": "f45b7998-b1dc-4454-b5a2-50932ed3e559",
        "execution": {
          "iopub.status.busy": "2022-08-15T23:09:24.173085Z",
          "iopub.execute_input": "2022-08-15T23:09:24.173501Z",
          "iopub.status.idle": "2022-08-15T23:09:24.210374Z",
          "shell.execute_reply.started": "2022-08-15T23:09:24.173462Z",
          "shell.execute_reply": "2022-08-15T23:09:24.209241Z"
        },
        "trusted": true,
        "colab": {
          "base_uri": "https://localhost:8080/",
          "height": 424
        }
      },
      "execution_count": null,
      "outputs": [
        {
          "output_type": "execute_result",
          "data": {
            "text/plain": [
              "                                Name Platform  Year_of_Release         Genre  \\\n",
              "0                         Wii Sports      Wii           2006.0        Sports   \n",
              "1                  Super Mario Bros.      NES           1985.0      Platform   \n",
              "2                     Mario Kart Wii      Wii           2008.0        Racing   \n",
              "3                  Wii Sports Resort      Wii           2009.0        Sports   \n",
              "4           Pokemon Red/Pokemon Blue       GB           1996.0  Role-Playing   \n",
              "...                              ...      ...              ...           ...   \n",
              "16714  Samurai Warriors: Sanada Maru      PS3           2016.0        Action   \n",
              "16715               LMA Manager 2007     X360           2006.0        Sports   \n",
              "16716        Haitaka no Psychedelica      PSV           2016.0     Adventure   \n",
              "16717               Spirits & Spells      GBA           2003.0      Platform   \n",
              "16718            Winning Post 8 2016      PSV           2016.0    Simulation   \n",
              "\n",
              "          Publisher  NA_Sales  EU_Sales  JP_Sales  Other_Sales  Global_Sales  \\\n",
              "0          Nintendo     41.36     28.96      3.77         8.45         82.53   \n",
              "1          Nintendo     29.08      3.58      6.81         0.77         40.24   \n",
              "2          Nintendo     15.68     12.76      3.79         3.29         35.52   \n",
              "3          Nintendo     15.61     10.93      3.28         2.95         32.77   \n",
              "4          Nintendo     11.27      8.89     10.22         1.00         31.37   \n",
              "...             ...       ...       ...       ...          ...           ...   \n",
              "16714    Tecmo Koei      0.00      0.00      0.01         0.00          0.01   \n",
              "16715   Codemasters      0.00      0.01      0.00         0.00          0.01   \n",
              "16716  Idea Factory      0.00      0.00      0.01         0.00          0.01   \n",
              "16717       Wanadoo      0.01      0.00      0.00         0.00          0.01   \n",
              "16718    Tecmo Koei      0.00      0.00      0.01         0.00          0.01   \n",
              "\n",
              "       Critic_Score  Critic_Count User_Score  User_Count Developer Rating  \n",
              "0              76.0          51.0          8       322.0  Nintendo      E  \n",
              "1               NaN           NaN        NaN         NaN       NaN    NaN  \n",
              "2              82.0          73.0        8.3       709.0  Nintendo      E  \n",
              "3              80.0          73.0          8       192.0  Nintendo      E  \n",
              "4               NaN           NaN        NaN         NaN       NaN    NaN  \n",
              "...             ...           ...        ...         ...       ...    ...  \n",
              "16714           NaN           NaN        NaN         NaN       NaN    NaN  \n",
              "16715           NaN           NaN        NaN         NaN       NaN    NaN  \n",
              "16716           NaN           NaN        NaN         NaN       NaN    NaN  \n",
              "16717           NaN           NaN        NaN         NaN       NaN    NaN  \n",
              "16718           NaN           NaN        NaN         NaN       NaN    NaN  \n",
              "\n",
              "[16719 rows x 16 columns]"
            ],
            "text/html": [
              "\n",
              "  <div id=\"df-d685262e-f4ba-4f6d-b70f-1ef201ac90fe\">\n",
              "    <div class=\"colab-df-container\">\n",
              "      <div>\n",
              "<style scoped>\n",
              "    .dataframe tbody tr th:only-of-type {\n",
              "        vertical-align: middle;\n",
              "    }\n",
              "\n",
              "    .dataframe tbody tr th {\n",
              "        vertical-align: top;\n",
              "    }\n",
              "\n",
              "    .dataframe thead th {\n",
              "        text-align: right;\n",
              "    }\n",
              "</style>\n",
              "<table border=\"1\" class=\"dataframe\">\n",
              "  <thead>\n",
              "    <tr style=\"text-align: right;\">\n",
              "      <th></th>\n",
              "      <th>Name</th>\n",
              "      <th>Platform</th>\n",
              "      <th>Year_of_Release</th>\n",
              "      <th>Genre</th>\n",
              "      <th>Publisher</th>\n",
              "      <th>NA_Sales</th>\n",
              "      <th>EU_Sales</th>\n",
              "      <th>JP_Sales</th>\n",
              "      <th>Other_Sales</th>\n",
              "      <th>Global_Sales</th>\n",
              "      <th>Critic_Score</th>\n",
              "      <th>Critic_Count</th>\n",
              "      <th>User_Score</th>\n",
              "      <th>User_Count</th>\n",
              "      <th>Developer</th>\n",
              "      <th>Rating</th>\n",
              "    </tr>\n",
              "  </thead>\n",
              "  <tbody>\n",
              "    <tr>\n",
              "      <th>0</th>\n",
              "      <td>Wii Sports</td>\n",
              "      <td>Wii</td>\n",
              "      <td>2006.0</td>\n",
              "      <td>Sports</td>\n",
              "      <td>Nintendo</td>\n",
              "      <td>41.36</td>\n",
              "      <td>28.96</td>\n",
              "      <td>3.77</td>\n",
              "      <td>8.45</td>\n",
              "      <td>82.53</td>\n",
              "      <td>76.0</td>\n",
              "      <td>51.0</td>\n",
              "      <td>8</td>\n",
              "      <td>322.0</td>\n",
              "      <td>Nintendo</td>\n",
              "      <td>E</td>\n",
              "    </tr>\n",
              "    <tr>\n",
              "      <th>1</th>\n",
              "      <td>Super Mario Bros.</td>\n",
              "      <td>NES</td>\n",
              "      <td>1985.0</td>\n",
              "      <td>Platform</td>\n",
              "      <td>Nintendo</td>\n",
              "      <td>29.08</td>\n",
              "      <td>3.58</td>\n",
              "      <td>6.81</td>\n",
              "      <td>0.77</td>\n",
              "      <td>40.24</td>\n",
              "      <td>NaN</td>\n",
              "      <td>NaN</td>\n",
              "      <td>NaN</td>\n",
              "      <td>NaN</td>\n",
              "      <td>NaN</td>\n",
              "      <td>NaN</td>\n",
              "    </tr>\n",
              "    <tr>\n",
              "      <th>2</th>\n",
              "      <td>Mario Kart Wii</td>\n",
              "      <td>Wii</td>\n",
              "      <td>2008.0</td>\n",
              "      <td>Racing</td>\n",
              "      <td>Nintendo</td>\n",
              "      <td>15.68</td>\n",
              "      <td>12.76</td>\n",
              "      <td>3.79</td>\n",
              "      <td>3.29</td>\n",
              "      <td>35.52</td>\n",
              "      <td>82.0</td>\n",
              "      <td>73.0</td>\n",
              "      <td>8.3</td>\n",
              "      <td>709.0</td>\n",
              "      <td>Nintendo</td>\n",
              "      <td>E</td>\n",
              "    </tr>\n",
              "    <tr>\n",
              "      <th>3</th>\n",
              "      <td>Wii Sports Resort</td>\n",
              "      <td>Wii</td>\n",
              "      <td>2009.0</td>\n",
              "      <td>Sports</td>\n",
              "      <td>Nintendo</td>\n",
              "      <td>15.61</td>\n",
              "      <td>10.93</td>\n",
              "      <td>3.28</td>\n",
              "      <td>2.95</td>\n",
              "      <td>32.77</td>\n",
              "      <td>80.0</td>\n",
              "      <td>73.0</td>\n",
              "      <td>8</td>\n",
              "      <td>192.0</td>\n",
              "      <td>Nintendo</td>\n",
              "      <td>E</td>\n",
              "    </tr>\n",
              "    <tr>\n",
              "      <th>4</th>\n",
              "      <td>Pokemon Red/Pokemon Blue</td>\n",
              "      <td>GB</td>\n",
              "      <td>1996.0</td>\n",
              "      <td>Role-Playing</td>\n",
              "      <td>Nintendo</td>\n",
              "      <td>11.27</td>\n",
              "      <td>8.89</td>\n",
              "      <td>10.22</td>\n",
              "      <td>1.00</td>\n",
              "      <td>31.37</td>\n",
              "      <td>NaN</td>\n",
              "      <td>NaN</td>\n",
              "      <td>NaN</td>\n",
              "      <td>NaN</td>\n",
              "      <td>NaN</td>\n",
              "      <td>NaN</td>\n",
              "    </tr>\n",
              "    <tr>\n",
              "      <th>...</th>\n",
              "      <td>...</td>\n",
              "      <td>...</td>\n",
              "      <td>...</td>\n",
              "      <td>...</td>\n",
              "      <td>...</td>\n",
              "      <td>...</td>\n",
              "      <td>...</td>\n",
              "      <td>...</td>\n",
              "      <td>...</td>\n",
              "      <td>...</td>\n",
              "      <td>...</td>\n",
              "      <td>...</td>\n",
              "      <td>...</td>\n",
              "      <td>...</td>\n",
              "      <td>...</td>\n",
              "      <td>...</td>\n",
              "    </tr>\n",
              "    <tr>\n",
              "      <th>16714</th>\n",
              "      <td>Samurai Warriors: Sanada Maru</td>\n",
              "      <td>PS3</td>\n",
              "      <td>2016.0</td>\n",
              "      <td>Action</td>\n",
              "      <td>Tecmo Koei</td>\n",
              "      <td>0.00</td>\n",
              "      <td>0.00</td>\n",
              "      <td>0.01</td>\n",
              "      <td>0.00</td>\n",
              "      <td>0.01</td>\n",
              "      <td>NaN</td>\n",
              "      <td>NaN</td>\n",
              "      <td>NaN</td>\n",
              "      <td>NaN</td>\n",
              "      <td>NaN</td>\n",
              "      <td>NaN</td>\n",
              "    </tr>\n",
              "    <tr>\n",
              "      <th>16715</th>\n",
              "      <td>LMA Manager 2007</td>\n",
              "      <td>X360</td>\n",
              "      <td>2006.0</td>\n",
              "      <td>Sports</td>\n",
              "      <td>Codemasters</td>\n",
              "      <td>0.00</td>\n",
              "      <td>0.01</td>\n",
              "      <td>0.00</td>\n",
              "      <td>0.00</td>\n",
              "      <td>0.01</td>\n",
              "      <td>NaN</td>\n",
              "      <td>NaN</td>\n",
              "      <td>NaN</td>\n",
              "      <td>NaN</td>\n",
              "      <td>NaN</td>\n",
              "      <td>NaN</td>\n",
              "    </tr>\n",
              "    <tr>\n",
              "      <th>16716</th>\n",
              "      <td>Haitaka no Psychedelica</td>\n",
              "      <td>PSV</td>\n",
              "      <td>2016.0</td>\n",
              "      <td>Adventure</td>\n",
              "      <td>Idea Factory</td>\n",
              "      <td>0.00</td>\n",
              "      <td>0.00</td>\n",
              "      <td>0.01</td>\n",
              "      <td>0.00</td>\n",
              "      <td>0.01</td>\n",
              "      <td>NaN</td>\n",
              "      <td>NaN</td>\n",
              "      <td>NaN</td>\n",
              "      <td>NaN</td>\n",
              "      <td>NaN</td>\n",
              "      <td>NaN</td>\n",
              "    </tr>\n",
              "    <tr>\n",
              "      <th>16717</th>\n",
              "      <td>Spirits &amp; Spells</td>\n",
              "      <td>GBA</td>\n",
              "      <td>2003.0</td>\n",
              "      <td>Platform</td>\n",
              "      <td>Wanadoo</td>\n",
              "      <td>0.01</td>\n",
              "      <td>0.00</td>\n",
              "      <td>0.00</td>\n",
              "      <td>0.00</td>\n",
              "      <td>0.01</td>\n",
              "      <td>NaN</td>\n",
              "      <td>NaN</td>\n",
              "      <td>NaN</td>\n",
              "      <td>NaN</td>\n",
              "      <td>NaN</td>\n",
              "      <td>NaN</td>\n",
              "    </tr>\n",
              "    <tr>\n",
              "      <th>16718</th>\n",
              "      <td>Winning Post 8 2016</td>\n",
              "      <td>PSV</td>\n",
              "      <td>2016.0</td>\n",
              "      <td>Simulation</td>\n",
              "      <td>Tecmo Koei</td>\n",
              "      <td>0.00</td>\n",
              "      <td>0.00</td>\n",
              "      <td>0.01</td>\n",
              "      <td>0.00</td>\n",
              "      <td>0.01</td>\n",
              "      <td>NaN</td>\n",
              "      <td>NaN</td>\n",
              "      <td>NaN</td>\n",
              "      <td>NaN</td>\n",
              "      <td>NaN</td>\n",
              "      <td>NaN</td>\n",
              "    </tr>\n",
              "  </tbody>\n",
              "</table>\n",
              "<p>16719 rows × 16 columns</p>\n",
              "</div>\n",
              "      <button class=\"colab-df-convert\" onclick=\"convertToInteractive('df-d685262e-f4ba-4f6d-b70f-1ef201ac90fe')\"\n",
              "              title=\"Convert this dataframe to an interactive table.\"\n",
              "              style=\"display:none;\">\n",
              "        \n",
              "  <svg xmlns=\"http://www.w3.org/2000/svg\" height=\"24px\"viewBox=\"0 0 24 24\"\n",
              "       width=\"24px\">\n",
              "    <path d=\"M0 0h24v24H0V0z\" fill=\"none\"/>\n",
              "    <path d=\"M18.56 5.44l.94 2.06.94-2.06 2.06-.94-2.06-.94-.94-2.06-.94 2.06-2.06.94zm-11 1L8.5 8.5l.94-2.06 2.06-.94-2.06-.94L8.5 2.5l-.94 2.06-2.06.94zm10 10l.94 2.06.94-2.06 2.06-.94-2.06-.94-.94-2.06-.94 2.06-2.06.94z\"/><path d=\"M17.41 7.96l-1.37-1.37c-.4-.4-.92-.59-1.43-.59-.52 0-1.04.2-1.43.59L10.3 9.45l-7.72 7.72c-.78.78-.78 2.05 0 2.83L4 21.41c.39.39.9.59 1.41.59.51 0 1.02-.2 1.41-.59l7.78-7.78 2.81-2.81c.8-.78.8-2.07 0-2.86zM5.41 20L4 18.59l7.72-7.72 1.47 1.35L5.41 20z\"/>\n",
              "  </svg>\n",
              "      </button>\n",
              "      \n",
              "  <style>\n",
              "    .colab-df-container {\n",
              "      display:flex;\n",
              "      flex-wrap:wrap;\n",
              "      gap: 12px;\n",
              "    }\n",
              "\n",
              "    .colab-df-convert {\n",
              "      background-color: #E8F0FE;\n",
              "      border: none;\n",
              "      border-radius: 50%;\n",
              "      cursor: pointer;\n",
              "      display: none;\n",
              "      fill: #1967D2;\n",
              "      height: 32px;\n",
              "      padding: 0 0 0 0;\n",
              "      width: 32px;\n",
              "    }\n",
              "\n",
              "    .colab-df-convert:hover {\n",
              "      background-color: #E2EBFA;\n",
              "      box-shadow: 0px 1px 2px rgba(60, 64, 67, 0.3), 0px 1px 3px 1px rgba(60, 64, 67, 0.15);\n",
              "      fill: #174EA6;\n",
              "    }\n",
              "\n",
              "    [theme=dark] .colab-df-convert {\n",
              "      background-color: #3B4455;\n",
              "      fill: #D2E3FC;\n",
              "    }\n",
              "\n",
              "    [theme=dark] .colab-df-convert:hover {\n",
              "      background-color: #434B5C;\n",
              "      box-shadow: 0px 1px 3px 1px rgba(0, 0, 0, 0.15);\n",
              "      filter: drop-shadow(0px 1px 2px rgba(0, 0, 0, 0.3));\n",
              "      fill: #FFFFFF;\n",
              "    }\n",
              "  </style>\n",
              "\n",
              "      <script>\n",
              "        const buttonEl =\n",
              "          document.querySelector('#df-d685262e-f4ba-4f6d-b70f-1ef201ac90fe button.colab-df-convert');\n",
              "        buttonEl.style.display =\n",
              "          google.colab.kernel.accessAllowed ? 'block' : 'none';\n",
              "\n",
              "        async function convertToInteractive(key) {\n",
              "          const element = document.querySelector('#df-d685262e-f4ba-4f6d-b70f-1ef201ac90fe');\n",
              "          const dataTable =\n",
              "            await google.colab.kernel.invokeFunction('convertToInteractive',\n",
              "                                                     [key], {});\n",
              "          if (!dataTable) return;\n",
              "\n",
              "          const docLinkHtml = 'Like what you see? Visit the ' +\n",
              "            '<a target=\"_blank\" href=https://colab.research.google.com/notebooks/data_table.ipynb>data table notebook</a>'\n",
              "            + ' to learn more about interactive tables.';\n",
              "          element.innerHTML = '';\n",
              "          dataTable['output_type'] = 'display_data';\n",
              "          await google.colab.output.renderOutput(dataTable, element);\n",
              "          const docLink = document.createElement('div');\n",
              "          docLink.innerHTML = docLinkHtml;\n",
              "          element.appendChild(docLink);\n",
              "        }\n",
              "      </script>\n",
              "    </div>\n",
              "  </div>\n",
              "  "
            ]
          },
          "metadata": {},
          "execution_count": 201
        }
      ]
    },
    {
      "cell_type": "markdown",
      "source": [
        "**Verificando se há dados nulos:**"
      ],
      "metadata": {
        "id": "_wV3HqV9Pbsm"
      }
    },
    {
      "cell_type": "code",
      "source": [
        "df.info()"
      ],
      "metadata": {
        "id": "u1dAvUVcfRUf",
        "outputId": "6110649e-49fe-49ee-8e9d-bceebb54a9c3",
        "execution": {
          "iopub.status.busy": "2022-08-15T23:09:27.378184Z",
          "iopub.execute_input": "2022-08-15T23:09:27.378612Z",
          "iopub.status.idle": "2022-08-15T23:09:27.401094Z",
          "shell.execute_reply.started": "2022-08-15T23:09:27.378575Z",
          "shell.execute_reply": "2022-08-15T23:09:27.399750Z"
        },
        "trusted": true,
        "colab": {
          "base_uri": "https://localhost:8080/"
        }
      },
      "execution_count": null,
      "outputs": [
        {
          "output_type": "stream",
          "name": "stdout",
          "text": [
            "<class 'pandas.core.frame.DataFrame'>\n",
            "RangeIndex: 16719 entries, 0 to 16718\n",
            "Data columns (total 16 columns):\n",
            " #   Column           Non-Null Count  Dtype  \n",
            "---  ------           --------------  -----  \n",
            " 0   Name             16717 non-null  object \n",
            " 1   Platform         16719 non-null  object \n",
            " 2   Year_of_Release  16450 non-null  float64\n",
            " 3   Genre            16717 non-null  object \n",
            " 4   Publisher        16665 non-null  object \n",
            " 5   NA_Sales         16719 non-null  float64\n",
            " 6   EU_Sales         16719 non-null  float64\n",
            " 7   JP_Sales         16719 non-null  float64\n",
            " 8   Other_Sales      16719 non-null  float64\n",
            " 9   Global_Sales     16719 non-null  float64\n",
            " 10  Critic_Score     8137 non-null   float64\n",
            " 11  Critic_Count     8137 non-null   float64\n",
            " 12  User_Score       10015 non-null  object \n",
            " 13  User_Count       7590 non-null   float64\n",
            " 14  Developer        10096 non-null  object \n",
            " 15  Rating           9950 non-null   object \n",
            "dtypes: float64(9), object(7)\n",
            "memory usage: 2.0+ MB\n"
          ]
        }
      ]
    },
    {
      "cell_type": "markdown",
      "source": [
        "**Agora excluir a coluna \"Developer\" pois é semelhante a \"Publisher\"**"
      ],
      "metadata": {
        "id": "sY04ila6G-Lk"
      }
    },
    {
      "cell_type": "code",
      "source": [
        "df.drop(columns=\"Developer\", axis=1, inplace=True)"
      ],
      "metadata": {
        "execution": {
          "iopub.status.busy": "2022-08-15T23:09:37.696159Z",
          "iopub.execute_input": "2022-08-15T23:09:37.697268Z",
          "iopub.status.idle": "2022-08-15T23:09:37.703582Z",
          "shell.execute_reply.started": "2022-08-15T23:09:37.697224Z",
          "shell.execute_reply": "2022-08-15T23:09:37.702717Z"
        },
        "trusted": true,
        "id": "wlp3iSuAG-Ll"
      },
      "execution_count": null,
      "outputs": []
    },
    {
      "cell_type": "markdown",
      "source": [
        "**Neste caso específico vamos retirar os dados nulos, pois alguns representam mais de 50% das amostras, não irão servir paa fazer a previsão se os aods nulos forem substituídos.**"
      ],
      "metadata": {
        "id": "sgkahMSCIRY6"
      }
    },
    {
      "cell_type": "code",
      "source": [
        "df.isna().sum()"
      ],
      "metadata": {
        "id": "AhHkZMxsPgx-",
        "outputId": "64259994-a69d-4db5-8947-92d5ef2258bc",
        "execution": {
          "iopub.status.busy": "2022-08-15T23:09:31.503931Z",
          "iopub.execute_input": "2022-08-15T23:09:31.504639Z",
          "iopub.status.idle": "2022-08-15T23:09:31.522722Z",
          "shell.execute_reply.started": "2022-08-15T23:09:31.504588Z",
          "shell.execute_reply": "2022-08-15T23:09:31.521536Z"
        },
        "trusted": true,
        "colab": {
          "base_uri": "https://localhost:8080/"
        }
      },
      "execution_count": null,
      "outputs": [
        {
          "output_type": "execute_result",
          "data": {
            "text/plain": [
              "Name                  2\n",
              "Platform              0\n",
              "Year_of_Release     269\n",
              "Genre                 2\n",
              "Publisher            54\n",
              "NA_Sales              0\n",
              "EU_Sales              0\n",
              "JP_Sales              0\n",
              "Other_Sales           0\n",
              "Global_Sales          0\n",
              "Critic_Score       8582\n",
              "Critic_Count       8582\n",
              "User_Score         6704\n",
              "User_Count         9129\n",
              "Rating             6769\n",
              "dtype: int64"
            ]
          },
          "metadata": {},
          "execution_count": 204
        }
      ]
    },
    {
      "cell_type": "markdown",
      "source": [
        "**Verificando se há duplicatas...**"
      ],
      "metadata": {
        "id": "K4NwKnbfH8ER"
      }
    },
    {
      "cell_type": "code",
      "source": [
        "df.duplicated().sum()"
      ],
      "metadata": {
        "colab": {
          "base_uri": "https://localhost:8080/"
        },
        "id": "W3r11vR2IA0Q",
        "outputId": "7dd947d1-0a37-4c9a-df0a-18d3f5bbc1a7"
      },
      "execution_count": null,
      "outputs": [
        {
          "output_type": "execute_result",
          "data": {
            "text/plain": [
              "0"
            ]
          },
          "metadata": {},
          "execution_count": 205
        }
      ]
    },
    {
      "cell_type": "code",
      "source": [
        "sns.boxplot(df[\"Global_Sales\"]);"
      ],
      "metadata": {
        "colab": {
          "base_uri": "https://localhost:8080/",
          "height": 280
        },
        "id": "10a5Hj2vMgvn",
        "outputId": "6458cc0f-13d4-424f-fff6-aaf633f324f9"
      },
      "execution_count": null,
      "outputs": [
        {
          "output_type": "display_data",
          "data": {
            "text/plain": [
              "<Figure size 432x288 with 1 Axes>"
            ],
            "image/png": "[encoded data removed]"
          },
          "metadata": {
            "needs_background": "light"
          }
        }
      ]
    },
    {
      "cell_type": "markdown",
      "source": [
        "**Vamos retirar algumas outliers, apenas 2 amostras:**"
      ],
      "metadata": {
        "id": "13kZTPqCbawy"
      }
    },
    {
      "cell_type": "code",
      "source": [
        "lista = [\"NA_Sales\", \"EU_Sales\", \"JP_Sales\", \"Other_Sales\", \"Global_Sales\"]\n",
        "for i in df[lista]:\n",
        "  df = df[df[i] < 40]"
      ],
      "metadata": {
        "id": "BLjTNn_QW-1S"
      },
      "execution_count": null,
      "outputs": []
    },
    {
      "cell_type": "code",
      "source": [
        "df"
      ],
      "metadata": {
        "colab": {
          "base_uri": "https://localhost:8080/",
          "height": 424
        },
        "id": "xrBCevSrbW7r",
        "outputId": "efacf127-cb61-4552-f0f5-499820df1f5b"
      },
      "execution_count": null,
      "outputs": [
        {
          "output_type": "execute_result",
          "data": {
            "text/plain": [
              "                                Name Platform  Year_of_Release         Genre  \\\n",
              "2                     Mario Kart Wii      Wii           2008.0        Racing   \n",
              "3                  Wii Sports Resort      Wii           2009.0        Sports   \n",
              "4           Pokemon Red/Pokemon Blue       GB           1996.0  Role-Playing   \n",
              "5                             Tetris       GB           1989.0        Puzzle   \n",
              "6              New Super Mario Bros.       DS           2006.0      Platform   \n",
              "...                              ...      ...              ...           ...   \n",
              "16714  Samurai Warriors: Sanada Maru      PS3           2016.0        Action   \n",
              "16715               LMA Manager 2007     X360           2006.0        Sports   \n",
              "16716        Haitaka no Psychedelica      PSV           2016.0     Adventure   \n",
              "16717               Spirits & Spells      GBA           2003.0      Platform   \n",
              "16718            Winning Post 8 2016      PSV           2016.0    Simulation   \n",
              "\n",
              "          Publisher  NA_Sales  EU_Sales  JP_Sales  Other_Sales  Global_Sales  \\\n",
              "2          Nintendo     15.68     12.76      3.79         3.29         35.52   \n",
              "3          Nintendo     15.61     10.93      3.28         2.95         32.77   \n",
              "4          Nintendo     11.27      8.89     10.22         1.00         31.37   \n",
              "5          Nintendo     23.20      2.26      4.22         0.58         30.26   \n",
              "6          Nintendo     11.28      9.14      6.50         2.88         29.80   \n",
              "...             ...       ...       ...       ...          ...           ...   \n",
              "16714    Tecmo Koei      0.00      0.00      0.01         0.00          0.01   \n",
              "16715   Codemasters      0.00      0.01      0.00         0.00          0.01   \n",
              "16716  Idea Factory      0.00      0.00      0.01         0.00          0.01   \n",
              "16717       Wanadoo      0.01      0.00      0.00         0.00          0.01   \n",
              "16718    Tecmo Koei      0.00      0.00      0.01         0.00          0.01   \n",
              "\n",
              "       Critic_Score  Critic_Count User_Score  User_Count Rating  \n",
              "2              82.0          73.0        8.3       709.0      E  \n",
              "3              80.0          73.0          8       192.0      E  \n",
              "4               NaN           NaN        NaN         NaN    NaN  \n",
              "5               NaN           NaN        NaN         NaN    NaN  \n",
              "6              89.0          65.0        8.5       431.0      E  \n",
              "...             ...           ...        ...         ...    ...  \n",
              "16714           NaN           NaN        NaN         NaN    NaN  \n",
              "16715           NaN           NaN        NaN         NaN    NaN  \n",
              "16716           NaN           NaN        NaN         NaN    NaN  \n",
              "16717           NaN           NaN        NaN         NaN    NaN  \n",
              "16718           NaN           NaN        NaN         NaN    NaN  \n",
              "\n",
              "[16717 rows x 15 columns]"
            ],
            "text/html": [
              "\n",
              "  <div id=\"df-562f430d-4250-4a04-8306-c91f57d0329d\">\n",
              "    <div class=\"colab-df-container\">\n",
              "      <div>\n",
              "<style scoped>\n",
              "    .dataframe tbody tr th:only-of-type {\n",
              "        vertical-align: middle;\n",
              "    }\n",
              "\n",
              "    .dataframe tbody tr th {\n",
              "        vertical-align: top;\n",
              "    }\n",
              "\n",
              "    .dataframe thead th {\n",
              "        text-align: right;\n",
              "    }\n",
              "</style>\n",
              "<table border=\"1\" class=\"dataframe\">\n",
              "  <thead>\n",
              "    <tr style=\"text-align: right;\">\n",
              "      <th></th>\n",
              "      <th>Name</th>\n",
              "      <th>Platform</th>\n",
              "      <th>Year_of_Release</th>\n",
              "      <th>Genre</th>\n",
              "      <th>Publisher</th>\n",
              "      <th>NA_Sales</th>\n",
              "      <th>EU_Sales</th>\n",
              "      <th>JP_Sales</th>\n",
              "      <th>Other_Sales</th>\n",
              "      <th>Global_Sales</th>\n",
              "      <th>Critic_Score</th>\n",
              "      <th>Critic_Count</th>\n",
              "      <th>User_Score</th>\n",
              "      <th>User_Count</th>\n",
              "      <th>Rating</th>\n",
              "    </tr>\n",
              "  </thead>\n",
              "  <tbody>\n",
              "    <tr>\n",
              "      <th>2</th>\n",
              "      <td>Mario Kart Wii</td>\n",
              "      <td>Wii</td>\n",
              "      <td>2008.0</td>\n",
              "      <td>Racing</td>\n",
              "      <td>Nintendo</td>\n",
              "      <td>15.68</td>\n",
              "      <td>12.76</td>\n",
              "      <td>3.79</td>\n",
              "      <td>3.29</td>\n",
              "      <td>35.52</td>\n",
              "      <td>82.0</td>\n",
              "      <td>73.0</td>\n",
              "      <td>8.3</td>\n",
              "      <td>709.0</td>\n",
              "      <td>E</td>\n",
              "    </tr>\n",
              "    <tr>\n",
              "      <th>3</th>\n",
              "      <td>Wii Sports Resort</td>\n",
              "      <td>Wii</td>\n",
              "      <td>2009.0</td>\n",
              "      <td>Sports</td>\n",
              "      <td>Nintendo</td>\n",
              "      <td>15.61</td>\n",
              "      <td>10.93</td>\n",
              "      <td>3.28</td>\n",
              "      <td>2.95</td>\n",
              "      <td>32.77</td>\n",
              "      <td>80.0</td>\n",
              "      <td>73.0</td>\n",
              "      <td>8</td>\n",
              "      <td>192.0</td>\n",
              "      <td>E</td>\n",
              "    </tr>\n",
              "    <tr>\n",
              "      <th>4</th>\n",
              "      <td>Pokemon Red/Pokemon Blue</td>\n",
              "      <td>GB</td>\n",
              "      <td>1996.0</td>\n",
              "      <td>Role-Playing</td>\n",
              "      <td>Nintendo</td>\n",
              "      <td>11.27</td>\n",
              "      <td>8.89</td>\n",
              "      <td>10.22</td>\n",
              "      <td>1.00</td>\n",
              "      <td>31.37</td>\n",
              "      <td>NaN</td>\n",
              "      <td>NaN</td>\n",
              "      <td>NaN</td>\n",
              "      <td>NaN</td>\n",
              "      <td>NaN</td>\n",
              "    </tr>\n",
              "    <tr>\n",
              "      <th>5</th>\n",
              "      <td>Tetris</td>\n",
              "      <td>GB</td>\n",
              "      <td>1989.0</td>\n",
              "      <td>Puzzle</td>\n",
              "      <td>Nintendo</td>\n",
              "      <td>23.20</td>\n",
              "      <td>2.26</td>\n",
              "      <td>4.22</td>\n",
              "      <td>0.58</td>\n",
              "      <td>30.26</td>\n",
              "      <td>NaN</td>\n",
              "      <td>NaN</td>\n",
              "      <td>NaN</td>\n",
              "      <td>NaN</td>\n",
              "      <td>NaN</td>\n",
              "    </tr>\n",
              "    <tr>\n",
              "      <th>6</th>\n",
              "      <td>New Super Mario Bros.</td>\n",
              "      <td>DS</td>\n",
              "      <td>2006.0</td>\n",
              "      <td>Platform</td>\n",
              "      <td>Nintendo</td>\n",
              "      <td>11.28</td>\n",
              "      <td>9.14</td>\n",
              "      <td>6.50</td>\n",
              "      <td>2.88</td>\n",
              "      <td>29.80</td>\n",
              "      <td>89.0</td>\n",
              "      <td>65.0</td>\n",
              "      <td>8.5</td>\n",
              "      <td>431.0</td>\n",
              "      <td>E</td>\n",
              "    </tr>\n",
              "    <tr>\n",
              "      <th>...</th>\n",
              "      <td>...</td>\n",
              "      <td>...</td>\n",
              "      <td>...</td>\n",
              "      <td>...</td>\n",
              "      <td>...</td>\n",
              "      <td>...</td>\n",
              "      <td>...</td>\n",
              "      <td>...</td>\n",
              "      <td>...</td>\n",
              "      <td>...</td>\n",
              "      <td>...</td>\n",
              "      <td>...</td>\n",
              "      <td>...</td>\n",
              "      <td>...</td>\n",
              "      <td>...</td>\n",
              "    </tr>\n",
              "    <tr>\n",
              "      <th>16714</th>\n",
              "      <td>Samurai Warriors: Sanada Maru</td>\n",
              "      <td>PS3</td>\n",
              "      <td>2016.0</td>\n",
              "      <td>Action</td>\n",
              "      <td>Tecmo Koei</td>\n",
              "      <td>0.00</td>\n",
              "      <td>0.00</td>\n",
              "      <td>0.01</td>\n",
              "      <td>0.00</td>\n",
              "      <td>0.01</td>\n",
              "      <td>NaN</td>\n",
              "      <td>NaN</td>\n",
              "      <td>NaN</td>\n",
              "      <td>NaN</td>\n",
              "      <td>NaN</td>\n",
              "    </tr>\n",
              "    <tr>\n",
              "      <th>16715</th>\n",
              "      <td>LMA Manager 2007</td>\n",
              "      <td>X360</td>\n",
              "      <td>2006.0</td>\n",
              "      <td>Sports</td>\n",
              "      <td>Codemasters</td>\n",
              "      <td>0.00</td>\n",
              "      <td>0.01</td>\n",
              "      <td>0.00</td>\n",
              "      <td>0.00</td>\n",
              "      <td>0.01</td>\n",
              "      <td>NaN</td>\n",
              "      <td>NaN</td>\n",
              "      <td>NaN</td>\n",
              "      <td>NaN</td>\n",
              "      <td>NaN</td>\n",
              "    </tr>\n",
              "    <tr>\n",
              "      <th>16716</th>\n",
              "      <td>Haitaka no Psychedelica</td>\n",
              "      <td>PSV</td>\n",
              "      <td>2016.0</td>\n",
              "      <td>Adventure</td>\n",
              "      <td>Idea Factory</td>\n",
              "      <td>0.00</td>\n",
              "      <td>0.00</td>\n",
              "      <td>0.01</td>\n",
              "      <td>0.00</td>\n",
              "      <td>0.01</td>\n",
              "      <td>NaN</td>\n",
              "      <td>NaN</td>\n",
              "      <td>NaN</td>\n",
              "      <td>NaN</td>\n",
              "      <td>NaN</td>\n",
              "    </tr>\n",
              "    <tr>\n",
              "      <th>16717</th>\n",
              "      <td>Spirits &amp; Spells</td>\n",
              "      <td>GBA</td>\n",
              "      <td>2003.0</td>\n",
              "      <td>Platform</td>\n",
              "      <td>Wanadoo</td>\n",
              "      <td>0.01</td>\n",
              "      <td>0.00</td>\n",
              "      <td>0.00</td>\n",
              "      <td>0.00</td>\n",
              "      <td>0.01</td>\n",
              "      <td>NaN</td>\n",
              "      <td>NaN</td>\n",
              "      <td>NaN</td>\n",
              "      <td>NaN</td>\n",
              "      <td>NaN</td>\n",
              "    </tr>\n",
              "    <tr>\n",
              "      <th>16718</th>\n",
              "      <td>Winning Post 8 2016</td>\n",
              "      <td>PSV</td>\n",
              "      <td>2016.0</td>\n",
              "      <td>Simulation</td>\n",
              "      <td>Tecmo Koei</td>\n",
              "      <td>0.00</td>\n",
              "      <td>0.00</td>\n",
              "      <td>0.01</td>\n",
              "      <td>0.00</td>\n",
              "      <td>0.01</td>\n",
              "      <td>NaN</td>\n",
              "      <td>NaN</td>\n",
              "      <td>NaN</td>\n",
              "      <td>NaN</td>\n",
              "      <td>NaN</td>\n",
              "    </tr>\n",
              "  </tbody>\n",
              "</table>\n",
              "<p>16717 rows × 15 columns</p>\n",
              "</div>\n",
              "      <button class=\"colab-df-convert\" onclick=\"convertToInteractive('df-562f430d-4250-4a04-8306-c91f57d0329d')\"\n",
              "              title=\"Convert this dataframe to an interactive table.\"\n",
              "              style=\"display:none;\">\n",
              "        \n",
              "  <svg xmlns=\"http://www.w3.org/2000/svg\" height=\"24px\"viewBox=\"0 0 24 24\"\n",
              "       width=\"24px\">\n",
              "    <path d=\"M0 0h24v24H0V0z\" fill=\"none\"/>\n",
              "    <path d=\"M18.56 5.44l.94 2.06.94-2.06 2.06-.94-2.06-.94-.94-2.06-.94 2.06-2.06.94zm-11 1L8.5 8.5l.94-2.06 2.06-.94-2.06-.94L8.5 2.5l-.94 2.06-2.06.94zm10 10l.94 2.06.94-2.06 2.06-.94-2.06-.94-.94-2.06-.94 2.06-2.06.94z\"/><path d=\"M17.41 7.96l-1.37-1.37c-.4-.4-.92-.59-1.43-.59-.52 0-1.04.2-1.43.59L10.3 9.45l-7.72 7.72c-.78.78-.78 2.05 0 2.83L4 21.41c.39.39.9.59 1.41.59.51 0 1.02-.2 1.41-.59l7.78-7.78 2.81-2.81c.8-.78.8-2.07 0-2.86zM5.41 20L4 18.59l7.72-7.72 1.47 1.35L5.41 20z\"/>\n",
              "  </svg>\n",
              "      </button>\n",
              "      \n",
              "  <style>\n",
              "    .colab-df-container {\n",
              "      display:flex;\n",
              "      flex-wrap:wrap;\n",
              "      gap: 12px;\n",
              "    }\n",
              "\n",
              "    .colab-df-convert {\n",
              "      background-color: #E8F0FE;\n",
              "      border: none;\n",
              "      border-radius: 50%;\n",
              "      cursor: pointer;\n",
              "      display: none;\n",
              "      fill: #1967D2;\n",
              "      height: 32px;\n",
              "      padding: 0 0 0 0;\n",
              "      width: 32px;\n",
              "    }\n",
              "\n",
              "    .colab-df-convert:hover {\n",
              "      background-color: #E2EBFA;\n",
              "      box-shadow: 0px 1px 2px rgba(60, 64, 67, 0.3), 0px 1px 3px 1px rgba(60, 64, 67, 0.15);\n",
              "      fill: #174EA6;\n",
              "    }\n",
              "\n",
              "    [theme=dark] .colab-df-convert {\n",
              "      background-color: #3B4455;\n",
              "      fill: #D2E3FC;\n",
              "    }\n",
              "\n",
              "    [theme=dark] .colab-df-convert:hover {\n",
              "      background-color: #434B5C;\n",
              "      box-shadow: 0px 1px 3px 1px rgba(0, 0, 0, 0.15);\n",
              "      filter: drop-shadow(0px 1px 2px rgba(0, 0, 0, 0.3));\n",
              "      fill: #FFFFFF;\n",
              "    }\n",
              "  </style>\n",
              "\n",
              "      <script>\n",
              "        const buttonEl =\n",
              "          document.querySelector('#df-562f430d-4250-4a04-8306-c91f57d0329d button.colab-df-convert');\n",
              "        buttonEl.style.display =\n",
              "          google.colab.kernel.accessAllowed ? 'block' : 'none';\n",
              "\n",
              "        async function convertToInteractive(key) {\n",
              "          const element = document.querySelector('#df-562f430d-4250-4a04-8306-c91f57d0329d');\n",
              "          const dataTable =\n",
              "            await google.colab.kernel.invokeFunction('convertToInteractive',\n",
              "                                                     [key], {});\n",
              "          if (!dataTable) return;\n",
              "\n",
              "          const docLinkHtml = 'Like what you see? Visit the ' +\n",
              "            '<a target=\"_blank\" href=https://colab.research.google.com/notebooks/data_table.ipynb>data table notebook</a>'\n",
              "            + ' to learn more about interactive tables.';\n",
              "          element.innerHTML = '';\n",
              "          dataTable['output_type'] = 'display_data';\n",
              "          await google.colab.output.renderOutput(dataTable, element);\n",
              "          const docLink = document.createElement('div');\n",
              "          docLink.innerHTML = docLinkHtml;\n",
              "          element.appendChild(docLink);\n",
              "        }\n",
              "      </script>\n",
              "    </div>\n",
              "  </div>\n",
              "  "
            ]
          },
          "metadata": {},
          "execution_count": 209
        }
      ]
    },
    {
      "cell_type": "markdown",
      "metadata": {
        "id": "YYgVyk65c8bH"
      },
      "source": [
        "#**XGBOOST Regressor**"
      ]
    },
    {
      "cell_type": "code",
      "execution_count": null,
      "metadata": {
        "colab": {
          "base_uri": "https://localhost:8080/"
        },
        "execution": {
          "iopub.execute_input": "2022-07-05T00:58:39.306002Z",
          "iopub.status.busy": "2022-07-05T00:58:39.305542Z",
          "iopub.status.idle": "2022-07-05T01:02:18.329714Z",
          "shell.execute_reply": "2022-07-05T01:02:18.328430Z",
          "shell.execute_reply.started": "2022-07-05T00:58:39.305970Z"
        },
        "id": "e-eFLMGWc8bI",
        "outputId": "2f2eef61-b8f6-42c4-a63f-c50d5d3175a8"
      },
      "outputs": [
        {
          "output_type": "stream",
          "name": "stdout",
          "text": [
            "Fitting 5 folds for each of 1 candidates, totalling 5 fits\n",
            "[15:33:21] WARNING: /workspace/src/objective/regression_obj.cu:152: reg:linear is now deprecated in favor of reg:squarederror.\n"
          ]
        },
        {
          "output_type": "execute_result",
          "data": {
            "text/plain": [
              "GridSearchCV(cv=KFold(n_splits=5, random_state=42, shuffle=True),\n",
              "             estimator=Pipeline(steps=[('pre_processador',\n",
              "                                        ColumnTransformer(transformers=[('transf_num',\n",
              "                                                                         Pipeline(steps=[('input_num',\n",
              "                                                                                          SimpleImputer()),\n",
              "                                                                                         ('std',\n",
              "                                                                                          StandardScaler())]),\n",
              "                                                                         ['Year_of_Release',\n",
              "                                                                          'NA_Sales',\n",
              "                                                                          'EU_Sales',\n",
              "                                                                          'JP_Sales',\n",
              "                                                                          'Other_Sales',\n",
              "                                                                          'Critic_Score',\n",
              "                                                                          'Critic_Count',\n",
              "                                                                          'User_Count']),\n",
              "                                                                        ('transf_cat...\n",
              "                                                                                          OrdinalEncoder(handle_unknown='use_encoded_value',\n",
              "                                                                                                         unknown_value=-1))]),\n",
              "                                                                         ['Name',\n",
              "                                                                          'Platform',\n",
              "                                                                          'Genre',\n",
              "                                                                          'Publisher',\n",
              "                                                                          'User_Score',\n",
              "                                                                          'Rating'])])),\n",
              "                                       ('xgbr',\n",
              "                                        XGBRegressor(eval_metric='logloss',\n",
              "                                                     random_state=42))]),\n",
              "             n_jobs=-1,\n",
              "             param_grid={'xgbr__colsample_bytree': [0.5],\n",
              "                         'xgbr__learning_rate': [0.001], 'xgbr__max_depth': [2],\n",
              "                         'xgbr__n_estimators': [2000],\n",
              "                         'xgbr__subsample': [0.5]},\n",
              "             scoring='r2', verbose=10)"
            ]
          },
          "metadata": {},
          "execution_count": 210
        }
      ],
      "source": [
        "#Separando o que é features e target:\n",
        "X = df.drop(columns=\"Global_Sales\")\n",
        "y = df[\"Global_Sales\"]\n",
        "\n",
        "# Dividindo em dados de teste e dados de treino, peguei 20% para dados de teste:\n",
        "X_train, X_test, y_train, y_test = train_test_split(X, y, test_size=0.3, random_state=12)\n",
        "\n",
        "# Iniciando a construção da Pipeline:\n",
        "# ==========================================================\n",
        "#Primeiro vamos tratar as features numéricas. Tratando os valores nulos (NaN) e escalonando já que a variância entre as features é grande.\n",
        "pipe_features_num = Pipeline([(\"input_num\", SimpleImputer(strategy=\"mean\")),\n",
        "                              (\"std\", StandardScaler())])\n",
        "\n",
        "features_num = X_train.select_dtypes(include=np.number).columns.tolist()\n",
        "# ==========================================================\n",
        "# Tratando as features categóricas. Os valores nulos (NaN) serão preenchidos pelos dados mais constantes e posteriormente codificaremos todas elas com o One Hot Encoder e Ordinal Enconder. Percebemos que o One Hot Encoder \n",
        "# é para features categóricas binárias e o Ordinal Enconder para features categóricas ordinais (não binários)\n",
        "\n",
        "pipe_features_oe = Pipeline([(\"input_cat_oe\", SimpleImputer(strategy=\"constant\", fill_value=\"unknown\")),\n",
        "                             (\"ordinal\", OrdinalEncoder(handle_unknown='use_encoded_value', unknown_value=-1))])\n",
        "\n",
        "features_oe = [\"Name\", \"Platform\", \"Genre\", \"Publisher\", \"User_Score\", \"Rating\"]\n",
        "\n",
        "# ==========================================================\n",
        "# Pré-processador => Pegando as pipelines anteriores e unindo-as.\n",
        "pre_processador = ColumnTransformer([(\"transf_num\", pipe_features_num, features_num),\n",
        "                                     (\"transf_cat_oe\", pipe_features_oe, features_oe)])\n",
        "\n",
        "# ==========================================================\n",
        "# Pipeline final, usando o pré-processador e o estimador que queremos utilizar, neste caso o XGBoost para regressão.\n",
        "pipe_xgbr = Pipeline([(\"pre_processador\", pre_processador),\n",
        "                     (\"xgbr\", XGBRegressor(eval_metric='logloss', random_state=42))])\n",
        "\n",
        "# ==========================================================\n",
        "#Vamos dividir em splits para ter mais variedade no processamento dos dados.\n",
        "splitter = KFold(n_splits=5, random_state=42, shuffle=True)\n",
        "\n",
        "#Montando a grade de parâmetros do estimador (XGBoost)\n",
        "params_grid_xgbr = {\"xgbr__n_estimators\": [2000],\n",
        "                   \"xgbr__max_depth\": [2],\n",
        "                   \"xgbr__learning_rate\": [0.001],\n",
        "                   \"xgbr__colsample_bytree\": [0.5],\n",
        "                   \"xgbr__subsample\": [0.5]}\n",
        "\n",
        "\n",
        "#Motando a grade geral de parâmetros.\n",
        "grid_xgbr = GridSearchCV(estimator=pipe_xgbr,\n",
        "                       param_grid=params_grid_xgbr,\n",
        "                       scoring=\"r2\",\n",
        "                       cv=splitter,\n",
        "                       verbose=10,\n",
        "                       n_jobs=-1)\n",
        "\n",
        "grid_xgbr.fit(X_train, y_train)"
      ]
    },
    {
      "cell_type": "code",
      "execution_count": null,
      "metadata": {
        "colab": {
          "base_uri": "https://localhost:8080/"
        },
        "collapsed": true,
        "execution": {
          "iopub.execute_input": "2022-07-04T21:37:34.559124Z",
          "iopub.status.busy": "2022-07-04T21:37:34.558167Z",
          "iopub.status.idle": "2022-07-04T21:37:34.565840Z",
          "shell.execute_reply": "2022-07-04T21:37:34.565007Z",
          "shell.execute_reply.started": "2022-07-04T21:37:34.559057Z"
        },
        "id": "DAKnu8-xc8bI",
        "jupyter": {
          "outputs_hidden": true
        },
        "outputId": "f37ba54b-744f-43e0-8a40-f4f3b5ac2aca"
      },
      "outputs": [
        {
          "output_type": "execute_result",
          "data": {
            "text/plain": [
              "{'xgbr__colsample_bytree': 0.5,\n",
              " 'xgbr__learning_rate': 0.001,\n",
              " 'xgbr__max_depth': 2,\n",
              " 'xgbr__n_estimators': 2000,\n",
              " 'xgbr__subsample': 0.5}"
            ]
          },
          "metadata": {},
          "execution_count": 211
        }
      ],
      "source": [
        "grid_xgbr.best_params_"
      ]
    },
    {
      "cell_type": "code",
      "execution_count": null,
      "metadata": {
        "collapsed": true,
        "execution": {
          "iopub.execute_input": "2022-07-04T14:20:52.445534Z",
          "iopub.status.busy": "2022-07-04T14:20:52.445074Z",
          "iopub.status.idle": "2022-07-04T14:20:52.487086Z",
          "shell.execute_reply": "2022-07-04T14:20:52.486289Z",
          "shell.execute_reply.started": "2022-07-04T14:20:52.445484Z"
        },
        "id": "Bzqj-9m-c8bJ",
        "jupyter": {
          "outputs_hidden": true
        },
        "colab": {
          "base_uri": "https://localhost:8080/",
          "height": 162
        },
        "outputId": "2743999b-0be2-408f-c3ce-1d79e86b478a"
      },
      "outputs": [
        {
          "output_type": "execute_result",
          "data": {
            "text/plain": [
              "   mean_fit_time  std_fit_time  mean_score_time  std_score_time  \\\n",
              "0      10.431548      1.498237         0.132585        0.028718   \n",
              "\n",
              "  param_xgbr__colsample_bytree param_xgbr__learning_rate  \\\n",
              "0                          0.5                     0.001   \n",
              "\n",
              "  param_xgbr__max_depth param_xgbr__n_estimators param_xgbr__subsample  \\\n",
              "0                     2                     2000                   0.5   \n",
              "\n",
              "                                              params  split0_test_score  \\\n",
              "0  {'xgbr__colsample_bytree': 0.5, 'xgbr__learnin...           0.865367   \n",
              "\n",
              "   split1_test_score  split2_test_score  split3_test_score  split4_test_score  \\\n",
              "0           0.832005           0.884914           0.893617           0.902447   \n",
              "\n",
              "   mean_test_score  std_test_score  rank_test_score  \n",
              "0          0.87567        0.025049                1  "
            ],
            "text/html": [
              "\n",
              "  <div id=\"df-3cc8c037-eb1b-4dfd-bdd2-6482897779bc\">\n",
              "    <div class=\"colab-df-container\">\n",
              "      <div>\n",
              "<style scoped>\n",
              "    .dataframe tbody tr th:only-of-type {\n",
              "        vertical-align: middle;\n",
              "    }\n",
              "\n",
              "    .dataframe tbody tr th {\n",
              "        vertical-align: top;\n",
              "    }\n",
              "\n",
              "    .dataframe thead th {\n",
              "        text-align: right;\n",
              "    }\n",
              "</style>\n",
              "<table border=\"1\" class=\"dataframe\">\n",
              "  <thead>\n",
              "    <tr style=\"text-align: right;\">\n",
              "      <th></th>\n",
              "      <th>mean_fit_time</th>\n",
              "      <th>std_fit_time</th>\n",
              "      <th>mean_score_time</th>\n",
              "      <th>std_score_time</th>\n",
              "      <th>param_xgbr__colsample_bytree</th>\n",
              "      <th>param_xgbr__learning_rate</th>\n",
              "      <th>param_xgbr__max_depth</th>\n",
              "      <th>param_xgbr__n_estimators</th>\n",
              "      <th>param_xgbr__subsample</th>\n",
              "      <th>params</th>\n",
              "      <th>split0_test_score</th>\n",
              "      <th>split1_test_score</th>\n",
              "      <th>split2_test_score</th>\n",
              "      <th>split3_test_score</th>\n",
              "      <th>split4_test_score</th>\n",
              "      <th>mean_test_score</th>\n",
              "      <th>std_test_score</th>\n",
              "      <th>rank_test_score</th>\n",
              "    </tr>\n",
              "  </thead>\n",
              "  <tbody>\n",
              "    <tr>\n",
              "      <th>0</th>\n",
              "      <td>10.431548</td>\n",
              "      <td>1.498237</td>\n",
              "      <td>0.132585</td>\n",
              "      <td>0.028718</td>\n",
              "      <td>0.5</td>\n",
              "      <td>0.001</td>\n",
              "      <td>2</td>\n",
              "      <td>2000</td>\n",
              "      <td>0.5</td>\n",
              "      <td>{'xgbr__colsample_bytree': 0.5, 'xgbr__learnin...</td>\n",
              "      <td>0.865367</td>\n",
              "      <td>0.832005</td>\n",
              "      <td>0.884914</td>\n",
              "      <td>0.893617</td>\n",
              "      <td>0.902447</td>\n",
              "      <td>0.87567</td>\n",
              "      <td>0.025049</td>\n",
              "      <td>1</td>\n",
              "    </tr>\n",
              "  </tbody>\n",
              "</table>\n",
              "</div>\n",
              "      <button class=\"colab-df-convert\" onclick=\"convertToInteractive('df-3cc8c037-eb1b-4dfd-bdd2-6482897779bc')\"\n",
              "              title=\"Convert this dataframe to an interactive table.\"\n",
              "              style=\"display:none;\">\n",
              "        \n",
              "  <svg xmlns=\"http://www.w3.org/2000/svg\" height=\"24px\"viewBox=\"0 0 24 24\"\n",
              "       width=\"24px\">\n",
              "    <path d=\"M0 0h24v24H0V0z\" fill=\"none\"/>\n",
              "    <path d=\"M18.56 5.44l.94 2.06.94-2.06 2.06-.94-2.06-.94-.94-2.06-.94 2.06-2.06.94zm-11 1L8.5 8.5l.94-2.06 2.06-.94-2.06-.94L8.5 2.5l-.94 2.06-2.06.94zm10 10l.94 2.06.94-2.06 2.06-.94-2.06-.94-.94-2.06-.94 2.06-2.06.94z\"/><path d=\"M17.41 7.96l-1.37-1.37c-.4-.4-.92-.59-1.43-.59-.52 0-1.04.2-1.43.59L10.3 9.45l-7.72 7.72c-.78.78-.78 2.05 0 2.83L4 21.41c.39.39.9.59 1.41.59.51 0 1.02-.2 1.41-.59l7.78-7.78 2.81-2.81c.8-.78.8-2.07 0-2.86zM5.41 20L4 18.59l7.72-7.72 1.47 1.35L5.41 20z\"/>\n",
              "  </svg>\n",
              "      </button>\n",
              "      \n",
              "  <style>\n",
              "    .colab-df-container {\n",
              "      display:flex;\n",
              "      flex-wrap:wrap;\n",
              "      gap: 12px;\n",
              "    }\n",
              "\n",
              "    .colab-df-convert {\n",
              "      background-color: #E8F0FE;\n",
              "      border: none;\n",
              "      border-radius: 50%;\n",
              "      cursor: pointer;\n",
              "      display: none;\n",
              "      fill: #1967D2;\n",
              "      height: 32px;\n",
              "      padding: 0 0 0 0;\n",
              "      width: 32px;\n",
              "    }\n",
              "\n",
              "    .colab-df-convert:hover {\n",
              "      background-color: #E2EBFA;\n",
              "      box-shadow: 0px 1px 2px rgba(60, 64, 67, 0.3), 0px 1px 3px 1px rgba(60, 64, 67, 0.15);\n",
              "      fill: #174EA6;\n",
              "    }\n",
              "\n",
              "    [theme=dark] .colab-df-convert {\n",
              "      background-color: #3B4455;\n",
              "      fill: #D2E3FC;\n",
              "    }\n",
              "\n",
              "    [theme=dark] .colab-df-convert:hover {\n",
              "      background-color: #434B5C;\n",
              "      box-shadow: 0px 1px 3px 1px rgba(0, 0, 0, 0.15);\n",
              "      filter: drop-shadow(0px 1px 2px rgba(0, 0, 0, 0.3));\n",
              "      fill: #FFFFFF;\n",
              "    }\n",
              "  </style>\n",
              "\n",
              "      <script>\n",
              "        const buttonEl =\n",
              "          document.querySelector('#df-3cc8c037-eb1b-4dfd-bdd2-6482897779bc button.colab-df-convert');\n",
              "        buttonEl.style.display =\n",
              "          google.colab.kernel.accessAllowed ? 'block' : 'none';\n",
              "\n",
              "        async function convertToInteractive(key) {\n",
              "          const element = document.querySelector('#df-3cc8c037-eb1b-4dfd-bdd2-6482897779bc');\n",
              "          const dataTable =\n",
              "            await google.colab.kernel.invokeFunction('convertToInteractive',\n",
              "                                                     [key], {});\n",
              "          if (!dataTable) return;\n",
              "\n",
              "          const docLinkHtml = 'Like what you see? Visit the ' +\n",
              "            '<a target=\"_blank\" href=https://colab.research.google.com/notebooks/data_table.ipynb>data table notebook</a>'\n",
              "            + ' to learn more about interactive tables.';\n",
              "          element.innerHTML = '';\n",
              "          dataTable['output_type'] = 'display_data';\n",
              "          await google.colab.output.renderOutput(dataTable, element);\n",
              "          const docLink = document.createElement('div');\n",
              "          docLink.innerHTML = docLinkHtml;\n",
              "          element.appendChild(docLink);\n",
              "        }\n",
              "      </script>\n",
              "    </div>\n",
              "  </div>\n",
              "  "
            ]
          },
          "metadata": {},
          "execution_count": 212
        }
      ],
      "source": [
        "xgbr_results = pd.DataFrame(grid_xgbr.cv_results_)\n",
        "xgbr_results.sort_values(by=[\"rank_test_score\"])"
      ]
    },
    {
      "cell_type": "code",
      "execution_count": null,
      "metadata": {
        "colab": {
          "base_uri": "https://localhost:8080/"
        },
        "execution": {
          "iopub.execute_input": "2022-07-05T01:02:43.684643Z",
          "iopub.status.busy": "2022-07-05T01:02:43.684163Z",
          "iopub.status.idle": "2022-07-05T01:02:45.252934Z",
          "shell.execute_reply": "2022-07-05T01:02:45.251778Z",
          "shell.execute_reply.started": "2022-07-05T01:02:43.684604Z"
        },
        "id": "uzhLcpnDc8bK",
        "outputId": "9331e539-d1f6-4d90-97ff-680cf82f3660"
      },
      "outputs": [
        {
          "output_type": "stream",
          "name": "stdout",
          "text": [
            "\n",
            "Métricas de treino:\n",
            "\n",
            "R^2: 0.90\n",
            "MAE: 0.20\n",
            "RMSE: 0.45\n",
            "\n",
            "Métricas de teste:\n",
            "\n",
            "R^2: 0.88\n",
            "MAE: 0.19\n",
            "RMSE: 0.45\n"
          ]
        }
      ],
      "source": [
        "# Predições de treino\n",
        "y_pred_train = grid_xgbr.predict(X_train)\n",
        "\n",
        "print(\"\\nMétricas de treino:\\n\")\n",
        "print(f\"R^2: {r2_score(y_train, y_pred_train):.2f}\")\n",
        "print(f\"MAE: {mean_absolute_error(y_train, y_pred_train):.2f}\")\n",
        "print(f\"RMSE: {np.sqrt(mean_squared_error(y_train, y_pred_train)):.2f}\")\n",
        "\n",
        "# Predições de teste\n",
        "y_pred_test= grid_xgbr.predict(X_test)\n",
        "\n",
        "print(\"\\nMétricas de teste:\\n\")\n",
        "print(f\"R^2: {r2_score(y_test, y_pred_test):.2f}\")\n",
        "print(f\"MAE: {mean_absolute_error(y_test, y_pred_test):.2f}\")\n",
        "print(f\"RMSE: {np.sqrt(mean_squared_error(y_test, y_pred_test)):.2f}\") "
      ]
    },
    {
      "cell_type": "code",
      "execution_count": null,
      "metadata": {
        "colab": {
          "base_uri": "https://localhost:8080/",
          "height": 499
        },
        "execution": {
          "iopub.execute_input": "2022-07-05T01:05:58.697717Z",
          "iopub.status.busy": "2022-07-05T01:05:58.696913Z",
          "iopub.status.idle": "2022-07-05T01:05:59.069653Z",
          "shell.execute_reply": "2022-07-05T01:05:59.068345Z",
          "shell.execute_reply.started": "2022-07-05T01:05:58.697665Z"
        },
        "id": "zH-xPhTkc8bK",
        "outputId": "4aa3640d-865b-4722-ba35-9fb4ba13bed5"
      },
      "outputs": [
        {
          "output_type": "display_data",
          "data": {
            "text/plain": [
              "<Figure size 2160x576 with 1 Axes>"
            ],
            "image/png": "[encoded data removed]"
          },
          "metadata": {
            "needs_background": "light"
          }
        }
      ],
      "source": [
        "plt.figure(figsize=(30,8))\n",
        "x_ax = range(len(y_test))\n",
        "plt.plot(x_ax, y_test, label=\"original\")\n",
        "plt.plot(x_ax, y_pred_test, label=\"predito\")\n",
        "plt.title(\"Comparação dos valores reais e preditos\")\n",
        "plt.legend()\n",
        "plt.show();"
      ]
    },
    {
      "cell_type": "markdown",
      "source": [
        "Salvado o estimador..."
      ],
      "metadata": {
        "id": "EJ-STtudhW2Q"
      }
    },
    {
      "cell_type": "code",
      "execution_count": null,
      "metadata": {
        "execution": {
          "iopub.execute_input": "2022-07-04T23:50:10.517694Z",
          "iopub.status.busy": "2022-07-04T23:50:10.517196Z",
          "iopub.status.idle": "2022-07-04T23:50:10.524008Z",
          "shell.execute_reply": "2022-07-04T23:50:10.522741Z",
          "shell.execute_reply.started": "2022-07-04T23:50:10.517659Z"
        },
        "id": "0fYoLUssc8bK"
      },
      "outputs": [],
      "source": [
        "import pickle"
      ]
    },
    {
      "cell_type": "code",
      "execution_count": null,
      "metadata": {
        "execution": {
          "iopub.execute_input": "2022-07-05T01:03:00.685460Z",
          "iopub.status.busy": "2022-07-05T01:03:00.684448Z",
          "iopub.status.idle": "2022-07-05T01:03:00.790710Z",
          "shell.execute_reply": "2022-07-05T01:03:00.788824Z",
          "shell.execute_reply.started": "2022-07-05T01:03:00.685404Z"
        },
        "id": "jfhpHY6vc8bL"
      },
      "outputs": [],
      "source": [
        "with open(\"grid_xgbr.pkl\", \"wb\") as f:\n",
        "    pickle.dump(grid_xgbr, f)"
      ]
    },
    {
      "cell_type": "code",
      "execution_count": null,
      "metadata": {
        "id": "sNYrXM8ec8bL",
        "colab": {
          "base_uri": "https://localhost:8080/"
        },
        "outputId": "1208ae1a-066c-4ada-8f75-152182231018"
      },
      "outputs": [
        {
          "output_type": "stream",
          "name": "stdout",
          "text": [
            "[19:54:20] WARNING: /workspace/src/objective/regression_obj.cu:152: reg:linear is now deprecated in favor of reg:squarederror.\n"
          ]
        }
      ],
      "source": [
        "with open(\"grid_xgbr.pkl\", \"rb\") as f:\n",
        "    \n",
        "    grid_xgbr = pickle.load(f)"
      ]
    },
    {
      "cell_type": "markdown",
      "metadata": {
        "id": "08Z7JIijkG8F"
      },
      "source": [
        "**Vamos criar uma tabela com a porcentagem de acertos para cada dado**"
      ]
    },
    {
      "cell_type": "code",
      "execution_count": null,
      "metadata": {
        "execution": {
          "iopub.execute_input": "2022-07-05T01:07:40.588922Z",
          "iopub.status.busy": "2022-07-05T01:07:40.588438Z",
          "iopub.status.idle": "2022-07-05T01:07:40.596087Z",
          "shell.execute_reply": "2022-07-05T01:07:40.594620Z",
          "shell.execute_reply.started": "2022-07-05T01:07:40.588882Z"
        },
        "id": "XVSopcR-c8bM"
      },
      "outputs": [],
      "source": [
        "tabela_xgbr = pd.DataFrame()"
      ]
    },
    {
      "cell_type": "code",
      "execution_count": null,
      "metadata": {
        "execution": {
          "iopub.execute_input": "2022-07-05T01:08:00.638005Z",
          "iopub.status.busy": "2022-07-05T01:08:00.637552Z",
          "iopub.status.idle": "2022-07-05T01:08:00.646545Z",
          "shell.execute_reply": "2022-07-05T01:08:00.645413Z",
          "shell.execute_reply.started": "2022-07-05T01:08:00.637972Z"
        },
        "id": "I96XCUNXc8bN"
      },
      "outputs": [],
      "source": [
        "tabela_xgbr[\"valores em euros\"] = y_test"
      ]
    },
    {
      "cell_type": "code",
      "execution_count": null,
      "metadata": {
        "execution": {
          "iopub.execute_input": "2022-07-05T01:08:27.467412Z",
          "iopub.status.busy": "2022-07-05T01:08:27.466894Z",
          "iopub.status.idle": "2022-07-05T01:08:27.474561Z",
          "shell.execute_reply": "2022-07-05T01:08:27.473152Z",
          "shell.execute_reply.started": "2022-07-05T01:08:27.467371Z"
        },
        "id": "aLkGND4Lc8bN"
      },
      "outputs": [],
      "source": [
        "tabela_xgbr[\"valores preditos\"] = y_pred_test"
      ]
    },
    {
      "cell_type": "code",
      "execution_count": null,
      "metadata": {
        "colab": {
          "base_uri": "https://localhost:8080/",
          "height": 424
        },
        "id": "z-k7Efca6tuX",
        "outputId": "2ca55c3c-ab0c-4aa1-80ed-9b15ba9a5c76"
      },
      "outputs": [
        {
          "output_type": "execute_result",
          "data": {
            "text/plain": [
              "       valores em euros  valores preditos\n",
              "12094              0.07          0.245434\n",
              "14118              0.04          0.245434\n",
              "9516               0.13          0.245434\n",
              "13727              0.04          0.245434\n",
              "1920               1.07          0.434696\n",
              "...                 ...               ...\n",
              "7122               0.22          0.245434\n",
              "8575               0.16          0.246668\n",
              "220                4.80          4.066635\n",
              "8068               0.18          0.249204\n",
              "5692               0.32          0.427651\n",
              "\n",
              "[5016 rows x 2 columns]"
            ],
            "text/html": [
              "\n",
              "  <div id=\"df-9c78dd94-68e7-4c73-9c28-60c67c6b99e8\">\n",
              "    <div class=\"colab-df-container\">\n",
              "      <div>\n",
              "<style scoped>\n",
              "    .dataframe tbody tr th:only-of-type {\n",
              "        vertical-align: middle;\n",
              "    }\n",
              "\n",
              "    .dataframe tbody tr th {\n",
              "        vertical-align: top;\n",
              "    }\n",
              "\n",
              "    .dataframe thead th {\n",
              "        text-align: right;\n",
              "    }\n",
              "</style>\n",
              "<table border=\"1\" class=\"dataframe\">\n",
              "  <thead>\n",
              "    <tr style=\"text-align: right;\">\n",
              "      <th></th>\n",
              "      <th>valores em euros</th>\n",
              "      <th>valores preditos</th>\n",
              "    </tr>\n",
              "  </thead>\n",
              "  <tbody>\n",
              "    <tr>\n",
              "      <th>12094</th>\n",
              "      <td>0.07</td>\n",
              "      <td>0.245434</td>\n",
              "    </tr>\n",
              "    <tr>\n",
              "      <th>14118</th>\n",
              "      <td>0.04</td>\n",
              "      <td>0.245434</td>\n",
              "    </tr>\n",
              "    <tr>\n",
              "      <th>9516</th>\n",
              "      <td>0.13</td>\n",
              "      <td>0.245434</td>\n",
              "    </tr>\n",
              "    <tr>\n",
              "      <th>13727</th>\n",
              "      <td>0.04</td>\n",
              "      <td>0.245434</td>\n",
              "    </tr>\n",
              "    <tr>\n",
              "      <th>1920</th>\n",
              "      <td>1.07</td>\n",
              "      <td>0.434696</td>\n",
              "    </tr>\n",
              "    <tr>\n",
              "      <th>...</th>\n",
              "      <td>...</td>\n",
              "      <td>...</td>\n",
              "    </tr>\n",
              "    <tr>\n",
              "      <th>7122</th>\n",
              "      <td>0.22</td>\n",
              "      <td>0.245434</td>\n",
              "    </tr>\n",
              "    <tr>\n",
              "      <th>8575</th>\n",
              "      <td>0.16</td>\n",
              "      <td>0.246668</td>\n",
              "    </tr>\n",
              "    <tr>\n",
              "      <th>220</th>\n",
              "      <td>4.80</td>\n",
              "      <td>4.066635</td>\n",
              "    </tr>\n",
              "    <tr>\n",
              "      <th>8068</th>\n",
              "      <td>0.18</td>\n",
              "      <td>0.249204</td>\n",
              "    </tr>\n",
              "    <tr>\n",
              "      <th>5692</th>\n",
              "      <td>0.32</td>\n",
              "      <td>0.427651</td>\n",
              "    </tr>\n",
              "  </tbody>\n",
              "</table>\n",
              "<p>5016 rows × 2 columns</p>\n",
              "</div>\n",
              "      <button class=\"colab-df-convert\" onclick=\"convertToInteractive('df-9c78dd94-68e7-4c73-9c28-60c67c6b99e8')\"\n",
              "              title=\"Convert this dataframe to an interactive table.\"\n",
              "              style=\"display:none;\">\n",
              "        \n",
              "  <svg xmlns=\"http://www.w3.org/2000/svg\" height=\"24px\"viewBox=\"0 0 24 24\"\n",
              "       width=\"24px\">\n",
              "    <path d=\"M0 0h24v24H0V0z\" fill=\"none\"/>\n",
              "    <path d=\"M18.56 5.44l.94 2.06.94-2.06 2.06-.94-2.06-.94-.94-2.06-.94 2.06-2.06.94zm-11 1L8.5 8.5l.94-2.06 2.06-.94-2.06-.94L8.5 2.5l-.94 2.06-2.06.94zm10 10l.94 2.06.94-2.06 2.06-.94-2.06-.94-.94-2.06-.94 2.06-2.06.94z\"/><path d=\"M17.41 7.96l-1.37-1.37c-.4-.4-.92-.59-1.43-.59-.52 0-1.04.2-1.43.59L10.3 9.45l-7.72 7.72c-.78.78-.78 2.05 0 2.83L4 21.41c.39.39.9.59 1.41.59.51 0 1.02-.2 1.41-.59l7.78-7.78 2.81-2.81c.8-.78.8-2.07 0-2.86zM5.41 20L4 18.59l7.72-7.72 1.47 1.35L5.41 20z\"/>\n",
              "  </svg>\n",
              "      </button>\n",
              "      \n",
              "  <style>\n",
              "    .colab-df-container {\n",
              "      display:flex;\n",
              "      flex-wrap:wrap;\n",
              "      gap: 12px;\n",
              "    }\n",
              "\n",
              "    .colab-df-convert {\n",
              "      background-color: #E8F0FE;\n",
              "      border: none;\n",
              "      border-radius: 50%;\n",
              "      cursor: pointer;\n",
              "      display: none;\n",
              "      fill: #1967D2;\n",
              "      height: 32px;\n",
              "      padding: 0 0 0 0;\n",
              "      width: 32px;\n",
              "    }\n",
              "\n",
              "    .colab-df-convert:hover {\n",
              "      background-color: #E2EBFA;\n",
              "      box-shadow: 0px 1px 2px rgba(60, 64, 67, 0.3), 0px 1px 3px 1px rgba(60, 64, 67, 0.15);\n",
              "      fill: #174EA6;\n",
              "    }\n",
              "\n",
              "    [theme=dark] .colab-df-convert {\n",
              "      background-color: #3B4455;\n",
              "      fill: #D2E3FC;\n",
              "    }\n",
              "\n",
              "    [theme=dark] .colab-df-convert:hover {\n",
              "      background-color: #434B5C;\n",
              "      box-shadow: 0px 1px 3px 1px rgba(0, 0, 0, 0.15);\n",
              "      filter: drop-shadow(0px 1px 2px rgba(0, 0, 0, 0.3));\n",
              "      fill: #FFFFFF;\n",
              "    }\n",
              "  </style>\n",
              "\n",
              "      <script>\n",
              "        const buttonEl =\n",
              "          document.querySelector('#df-9c78dd94-68e7-4c73-9c28-60c67c6b99e8 button.colab-df-convert');\n",
              "        buttonEl.style.display =\n",
              "          google.colab.kernel.accessAllowed ? 'block' : 'none';\n",
              "\n",
              "        async function convertToInteractive(key) {\n",
              "          const element = document.querySelector('#df-9c78dd94-68e7-4c73-9c28-60c67c6b99e8');\n",
              "          const dataTable =\n",
              "            await google.colab.kernel.invokeFunction('convertToInteractive',\n",
              "                                                     [key], {});\n",
              "          if (!dataTable) return;\n",
              "\n",
              "          const docLinkHtml = 'Like what you see? Visit the ' +\n",
              "            '<a target=\"_blank\" href=https://colab.research.google.com/notebooks/data_table.ipynb>data table notebook</a>'\n",
              "            + ' to learn more about interactive tables.';\n",
              "          element.innerHTML = '';\n",
              "          dataTable['output_type'] = 'display_data';\n",
              "          await google.colab.output.renderOutput(dataTable, element);\n",
              "          const docLink = document.createElement('div');\n",
              "          docLink.innerHTML = docLinkHtml;\n",
              "          element.appendChild(docLink);\n",
              "        }\n",
              "      </script>\n",
              "    </div>\n",
              "  </div>\n",
              "  "
            ]
          },
          "metadata": {},
          "execution_count": 225
        }
      ],
      "source": [
        "tabela_xgbr"
      ]
    },
    {
      "cell_type": "markdown",
      "source": [
        "Salvando a tabela..."
      ],
      "metadata": {
        "id": "GlVzhQiqiqFX"
      }
    },
    {
      "cell_type": "code",
      "source": [
        "tabela_xgbr.to_csv(\"08-games_xgbr.csv\")"
      ],
      "metadata": {
        "id": "ln6ipo5SisZm"
      },
      "execution_count": null,
      "outputs": []
    },
    {
      "cell_type": "markdown",
      "metadata": {
        "id": "eJHNWP3kV8iS"
      },
      "source": [
        "#**Interpretando o modelo globalmente**"
      ]
    },
    {
      "cell_type": "markdown",
      "metadata": {
        "id": "Qp1fQ46lWPTk"
      },
      "source": [
        "**Para a interpretação só podemos considerar as features numéricas, vamos retirar as features categóricas:**"
      ]
    },
    {
      "cell_type": "markdown",
      "metadata": {
        "id": "j7jxqycZIK7_"
      },
      "source": [
        "Percebemos que as features que tem dados como números contínuos tem um maior impacto na interpretação do que as features com dados como números discretos e as features com os maiores valores pesam mais na saída final, se analisarmos no dataset veremos que os valores da feature 'rent amount' são maiores que 'hoa' e assim sucessivamente como vemos no gráfico final:"
      ]
    },
    {
      "cell_type": "markdown",
      "metadata": {
        "id": "8Af3Hpzq9URP"
      },
      "source": [
        "**SHAP**"
      ]
    },
    {
      "cell_type": "code",
      "execution_count": null,
      "metadata": {
        "id": "B8hveFOf2nnI"
      },
      "outputs": [],
      "source": [
        "!pip install shap\n",
        "import shap"
      ]
    },
    {
      "cell_type": "code",
      "source": [
        "df.isna().sum()"
      ],
      "metadata": {
        "colab": {
          "base_uri": "https://localhost:8080/"
        },
        "id": "jBEtuPDFL8fP",
        "outputId": "eea9c160-804c-4cd3-ed7d-180fe86406f2"
      },
      "execution_count": null,
      "outputs": [
        {
          "output_type": "execute_result",
          "data": {
            "text/plain": [
              "Name                  2\n",
              "Platform              0\n",
              "Year_of_Release     269\n",
              "Genre                 2\n",
              "Publisher            54\n",
              "NA_Sales              0\n",
              "EU_Sales              0\n",
              "JP_Sales              0\n",
              "Other_Sales           0\n",
              "Global_Sales          0\n",
              "Critic_Score       8581\n",
              "Critic_Count       8581\n",
              "User_Score         6703\n",
              "User_Count         9128\n",
              "Rating             6768\n",
              "dtype: int64"
            ]
          },
          "metadata": {},
          "execution_count": 230
        }
      ]
    },
    {
      "cell_type": "markdown",
      "source": [
        "**Agora vamos tratar o NaN nas Features categóricas**"
      ],
      "metadata": {
        "id": "GKr0Ep8JWQdU"
      }
    },
    {
      "cell_type": "code",
      "source": [
        "#\"User_Score\", \"Publisher\", \"Rating\"\n",
        "ss = SimpleImputer(strategy=\"constant\", fill_value=\"unknown\")\n",
        "ss.fit(df[[\"Publisher\", \"User_Score\", \"Rating\"]])\n",
        "\n",
        "m = ss.transform(df[[\"Publisher\", \"User_Score\", \"Rating\"]])\n",
        "df[[\"Publisher\", \"User_Score\", \"Rating\"]] = m"
      ],
      "metadata": {
        "id": "UEcfCz-tWQdV"
      },
      "execution_count": null,
      "outputs": []
    },
    {
      "cell_type": "markdown",
      "source": [
        "**Agora vamos tratar o NaN nas Features numéricas**"
      ],
      "metadata": {
        "id": "mKNi8ujod3Ji"
      }
    },
    {
      "cell_type": "code",
      "source": [
        "#\"Year_of_Release\" \"Critic_Score\", \"Critic_Count\", \"User_Count\"\n",
        "ss = SimpleImputer(missing_values=np.nan, strategy=\"median\")\n",
        "ss.fit(df[[\"Year_of_Release\", \"Critic_Score\", \"Critic_Count\", \"User_Count\"]])\n",
        "\n",
        "m = ss.transform(df[[\"Year_of_Release\", \"Critic_Score\", \"Critic_Count\", \"User_Count\"]])\n",
        "df[[\"Year_of_Release\", \"Critic_Score\", \"Critic_Count\", \"User_Count\"]] = m"
      ],
      "metadata": {
        "id": "J-r0lHfSd0gb"
      },
      "execution_count": null,
      "outputs": []
    },
    {
      "cell_type": "markdown",
      "source": [
        "**O Shap só aceita dados numéricos, vamos transformar as Features categóricas em numéricas.**"
      ],
      "metadata": {
        "id": "K2NOE9BUypiy"
      }
    },
    {
      "cell_type": "markdown",
      "source": [
        "**Transformando as Features categóricas em numéricas - OrdinalEncoder() - Feature com mais de 2 dados diferentes.**"
      ],
      "metadata": {
        "id": "WdEFqcwsZM1h"
      }
    },
    {
      "cell_type": "code",
      "source": [
        "# \"dateCrawled\", \"vehicleType\", \"lastSeen\", \"brand\", \"model\",  \"fuelType\", \"notRepairedDamage\", \"gearbox\"\n",
        "oe =  OrdinalEncoder()\n",
        "oe.fit(df[[\"Publisher\", \"User_Score\", \"Rating\", \"Name\", \"Platform\", \"Genre\"]])\n",
        "df[[\"Publisher\", \"User_Score\", \"Rating\", \"Name\", \"Platform\", \"Genre\"]] = oe.transform(df[[\"Publisher\", \"User_Score\", \"Rating\", \"Name\", \"Platform\", \"Genre\"]])"
      ],
      "metadata": {
        "id": "G4fDsjuSVMiJ"
      },
      "execution_count": null,
      "outputs": []
    },
    {
      "cell_type": "markdown",
      "source": [
        "**Vamos escalonar todas as Features, pois a amplitude entre os dados está muito grande, isso pode causar um viés no resultado final:**"
      ],
      "metadata": {
        "id": "6yUhfH1Ra1E5"
      }
    },
    {
      "cell_type": "code",
      "source": [
        "df.columns"
      ],
      "metadata": {
        "colab": {
          "base_uri": "https://localhost:8080/"
        },
        "id": "kGLqmqXSgb7h",
        "outputId": "642eaf21-0628-4248-c0ec-58a48a003662"
      },
      "execution_count": null,
      "outputs": [
        {
          "output_type": "execute_result",
          "data": {
            "text/plain": [
              "Index(['Name', 'Platform', 'Year_of_Release', 'Genre', 'Publisher', 'NA_Sales',\n",
              "       'EU_Sales', 'JP_Sales', 'Other_Sales', 'Global_Sales', 'Critic_Score',\n",
              "       'Critic_Count', 'User_Score', 'User_Count', 'Rating'],\n",
              "      dtype='object')"
            ]
          },
          "metadata": {},
          "execution_count": 239
        }
      ]
    },
    {
      "cell_type": "code",
      "source": [
        "ssc = StandardScaler()\n",
        "\n",
        "ssc.fit(df[['Name', 'Platform', 'Year_of_Release', 'Genre', 'Publisher', 'NA_Sales', 'EU_Sales', 'JP_Sales', 'Other_Sales', 'Critic_Score', 'Critic_Count', 'User_Score', 'User_Count', 'Rating']])\n",
        "h= ssc.transform(df[['Name', 'Platform', 'Year_of_Release', 'Genre', 'Publisher', 'NA_Sales','EU_Sales', 'JP_Sales', 'Global_Sales', 'Critic_Score','Critic_Count', 'User_Score', 'User_Count', 'Rating']])\n",
        "df[['Name', 'Platform', 'Year_of_Release', 'Genre', 'Publisher', 'NA_Sales','EU_Sales', 'JP_Sales', 'Other_Sales', 'Critic_Score','Critic_Count', 'User_Score', 'User_Count', 'Rating']] = h"
      ],
      "metadata": {
        "id": "2HZDW5NwbdoP"
      },
      "execution_count": null,
      "outputs": []
    },
    {
      "cell_type": "code",
      "source": [
        "df"
      ],
      "metadata": {
        "colab": {
          "base_uri": "https://localhost:8080/",
          "height": 424
        },
        "id": "fgUpGAtlz13P",
        "outputId": "e641cc18-0ece-4110-d57d-6db547ea735c"
      },
      "execution_count": null,
      "outputs": [
        {
          "output_type": "execute_result",
          "data": {
            "text/plain": [
              "           Name  Platform  Year_of_Release     Genre  Publisher   NA_Sales  \\\n",
              "2     -0.063714  1.212135         0.257833  0.288651   0.361109  21.569802   \n",
              "3      1.570027  1.212135         0.429370  1.351147   0.361109  21.471891   \n",
              "4      0.468306 -1.291048        -1.800604  0.554275   0.361109  15.401348   \n",
              "5      1.181853 -1.291048        -3.001359  0.023027   0.361109  32.088347   \n",
              "6      0.281397 -1.410247        -0.085240 -0.242598   0.361109  15.415335   \n",
              "...         ...       ...              ...       ...        ...        ...   \n",
              "16714  0.752708  0.139343         1.630125 -1.305094   1.154166  -0.362482   \n",
              "16715 -0.199186  1.450534        -0.085240  1.351147  -1.146816  -0.362482   \n",
              "16716 -0.578986  0.496940         1.630125 -1.039470  -0.353759  -0.362482   \n",
              "16717  0.957561 -1.171848        -0.599849 -0.242598   1.411071  -0.348494   \n",
              "16718  1.582886  0.496940         1.630125  1.085523   1.154166  -0.362482   \n",
              "\n",
              "        EU_Sales   JP_Sales  Other_Sales  Global_Sales  Critic_Score  \\\n",
              "2      28.007739  12.251659   202.761698         35.52      1.226360   \n",
              "3      23.945398  10.568839   187.042946         32.77      1.021789   \n",
              "4      19.416888  33.468386   179.040672         31.37      0.101215   \n",
              "5       4.699228  13.670507   172.696012         30.26      0.101215   \n",
              "6      19.971852  21.193701   170.066693         29.80      1.942362   \n",
              "...          ...        ...          ...           ...           ...   \n",
              "16714  -0.317652  -0.221005    -0.210265          0.01      0.101215   \n",
              "16715  -0.295453  -0.254002    -0.210265          0.01      0.101215   \n",
              "16716  -0.317652  -0.221005    -0.210265          0.01      0.101215   \n",
              "16717  -0.317652  -0.254002    -0.210265          0.01      0.101215   \n",
              "16718  -0.317652  -0.221005    -0.210265          0.01      0.101215   \n",
              "\n",
              "       Critic_Count  User_Score  User_Count    Rating  \n",
              "2          3.656494   -0.191536    1.618844 -1.468157  \n",
              "3          3.656494   -0.367905    0.273834 -1.468157  \n",
              "4         -0.193038    0.749095   -0.163229  0.890047  \n",
              "5         -0.193038    0.749095   -0.163229  0.890047  \n",
              "6          3.064259   -0.073957    0.895609 -1.468157  \n",
              "...             ...         ...         ...       ...  \n",
              "16714     -0.193038    0.749095   -0.163229  0.890047  \n",
              "16715     -0.193038    0.749095   -0.163229  0.890047  \n",
              "16716     -0.193038    0.749095   -0.163229  0.890047  \n",
              "16717     -0.193038    0.749095   -0.163229  0.890047  \n",
              "16718     -0.193038    0.749095   -0.163229  0.890047  \n",
              "\n",
              "[16717 rows x 15 columns]"
            ],
            "text/html": [
              "\n",
              "  <div id=\"df-1e880723-24d6-49c9-b80e-5b3e69fe51ec\">\n",
              "    <div class=\"colab-df-container\">\n",
              "      <div>\n",
              "<style scoped>\n",
              "    .dataframe tbody tr th:only-of-type {\n",
              "        vertical-align: middle;\n",
              "    }\n",
              "\n",
              "    .dataframe tbody tr th {\n",
              "        vertical-align: top;\n",
              "    }\n",
              "\n",
              "    .dataframe thead th {\n",
              "        text-align: right;\n",
              "    }\n",
              "</style>\n",
              "<table border=\"1\" class=\"dataframe\">\n",
              "  <thead>\n",
              "    <tr style=\"text-align: right;\">\n",
              "      <th></th>\n",
              "      <th>Name</th>\n",
              "      <th>Platform</th>\n",
              "      <th>Year_of_Release</th>\n",
              "      <th>Genre</th>\n",
              "      <th>Publisher</th>\n",
              "      <th>NA_Sales</th>\n",
              "      <th>EU_Sales</th>\n",
              "      <th>JP_Sales</th>\n",
              "      <th>Other_Sales</th>\n",
              "      <th>Global_Sales</th>\n",
              "      <th>Critic_Score</th>\n",
              "      <th>Critic_Count</th>\n",
              "      <th>User_Score</th>\n",
              "      <th>User_Count</th>\n",
              "      <th>Rating</th>\n",
              "    </tr>\n",
              "  </thead>\n",
              "  <tbody>\n",
              "    <tr>\n",
              "      <th>2</th>\n",
              "      <td>-0.063714</td>\n",
              "      <td>1.212135</td>\n",
              "      <td>0.257833</td>\n",
              "      <td>0.288651</td>\n",
              "      <td>0.361109</td>\n",
              "      <td>21.569802</td>\n",
              "      <td>28.007739</td>\n",
              "      <td>12.251659</td>\n",
              "      <td>202.761698</td>\n",
              "      <td>35.52</td>\n",
              "      <td>1.226360</td>\n",
              "      <td>3.656494</td>\n",
              "      <td>-0.191536</td>\n",
              "      <td>1.618844</td>\n",
              "      <td>-1.468157</td>\n",
              "    </tr>\n",
              "    <tr>\n",
              "      <th>3</th>\n",
              "      <td>1.570027</td>\n",
              "      <td>1.212135</td>\n",
              "      <td>0.429370</td>\n",
              "      <td>1.351147</td>\n",
              "      <td>0.361109</td>\n",
              "      <td>21.471891</td>\n",
              "      <td>23.945398</td>\n",
              "      <td>10.568839</td>\n",
              "      <td>187.042946</td>\n",
              "      <td>32.77</td>\n",
              "      <td>1.021789</td>\n",
              "      <td>3.656494</td>\n",
              "      <td>-0.367905</td>\n",
              "      <td>0.273834</td>\n",
              "      <td>-1.468157</td>\n",
              "    </tr>\n",
              "    <tr>\n",
              "      <th>4</th>\n",
              "      <td>0.468306</td>\n",
              "      <td>-1.291048</td>\n",
              "      <td>-1.800604</td>\n",
              "      <td>0.554275</td>\n",
              "      <td>0.361109</td>\n",
              "      <td>15.401348</td>\n",
              "      <td>19.416888</td>\n",
              "      <td>33.468386</td>\n",
              "      <td>179.040672</td>\n",
              "      <td>31.37</td>\n",
              "      <td>0.101215</td>\n",
              "      <td>-0.193038</td>\n",
              "      <td>0.749095</td>\n",
              "      <td>-0.163229</td>\n",
              "      <td>0.890047</td>\n",
              "    </tr>\n",
              "    <tr>\n",
              "      <th>5</th>\n",
              "      <td>1.181853</td>\n",
              "      <td>-1.291048</td>\n",
              "      <td>-3.001359</td>\n",
              "      <td>0.023027</td>\n",
              "      <td>0.361109</td>\n",
              "      <td>32.088347</td>\n",
              "      <td>4.699228</td>\n",
              "      <td>13.670507</td>\n",
              "      <td>172.696012</td>\n",
              "      <td>30.26</td>\n",
              "      <td>0.101215</td>\n",
              "      <td>-0.193038</td>\n",
              "      <td>0.749095</td>\n",
              "      <td>-0.163229</td>\n",
              "      <td>0.890047</td>\n",
              "    </tr>\n",
              "    <tr>\n",
              "      <th>6</th>\n",
              "      <td>0.281397</td>\n",
              "      <td>-1.410247</td>\n",
              "      <td>-0.085240</td>\n",
              "      <td>-0.242598</td>\n",
              "      <td>0.361109</td>\n",
              "      <td>15.415335</td>\n",
              "      <td>19.971852</td>\n",
              "      <td>21.193701</td>\n",
              "      <td>170.066693</td>\n",
              "      <td>29.80</td>\n",
              "      <td>1.942362</td>\n",
              "      <td>3.064259</td>\n",
              "      <td>-0.073957</td>\n",
              "      <td>0.895609</td>\n",
              "      <td>-1.468157</td>\n",
              "    </tr>\n",
              "    <tr>\n",
              "      <th>...</th>\n",
              "      <td>...</td>\n",
              "      <td>...</td>\n",
              "      <td>...</td>\n",
              "      <td>...</td>\n",
              "      <td>...</td>\n",
              "      <td>...</td>\n",
              "      <td>...</td>\n",
              "      <td>...</td>\n",
              "      <td>...</td>\n",
              "      <td>...</td>\n",
              "      <td>...</td>\n",
              "      <td>...</td>\n",
              "      <td>...</td>\n",
              "      <td>...</td>\n",
              "      <td>...</td>\n",
              "    </tr>\n",
              "    <tr>\n",
              "      <th>16714</th>\n",
              "      <td>0.752708</td>\n",
              "      <td>0.139343</td>\n",
              "      <td>1.630125</td>\n",
              "      <td>-1.305094</td>\n",
              "      <td>1.154166</td>\n",
              "      <td>-0.362482</td>\n",
              "      <td>-0.317652</td>\n",
              "      <td>-0.221005</td>\n",
              "      <td>-0.210265</td>\n",
              "      <td>0.01</td>\n",
              "      <td>0.101215</td>\n",
              "      <td>-0.193038</td>\n",
              "      <td>0.749095</td>\n",
              "      <td>-0.163229</td>\n",
              "      <td>0.890047</td>\n",
              "    </tr>\n",
              "    <tr>\n",
              "      <th>16715</th>\n",
              "      <td>-0.199186</td>\n",
              "      <td>1.450534</td>\n",
              "      <td>-0.085240</td>\n",
              "      <td>1.351147</td>\n",
              "      <td>-1.146816</td>\n",
              "      <td>-0.362482</td>\n",
              "      <td>-0.295453</td>\n",
              "      <td>-0.254002</td>\n",
              "      <td>-0.210265</td>\n",
              "      <td>0.01</td>\n",
              "      <td>0.101215</td>\n",
              "      <td>-0.193038</td>\n",
              "      <td>0.749095</td>\n",
              "      <td>-0.163229</td>\n",
              "      <td>0.890047</td>\n",
              "    </tr>\n",
              "    <tr>\n",
              "      <th>16716</th>\n",
              "      <td>-0.578986</td>\n",
              "      <td>0.496940</td>\n",
              "      <td>1.630125</td>\n",
              "      <td>-1.039470</td>\n",
              "      <td>-0.353759</td>\n",
              "      <td>-0.362482</td>\n",
              "      <td>-0.317652</td>\n",
              "      <td>-0.221005</td>\n",
              "      <td>-0.210265</td>\n",
              "      <td>0.01</td>\n",
              "      <td>0.101215</td>\n",
              "      <td>-0.193038</td>\n",
              "      <td>0.749095</td>\n",
              "      <td>-0.163229</td>\n",
              "      <td>0.890047</td>\n",
              "    </tr>\n",
              "    <tr>\n",
              "      <th>16717</th>\n",
              "      <td>0.957561</td>\n",
              "      <td>-1.171848</td>\n",
              "      <td>-0.599849</td>\n",
              "      <td>-0.242598</td>\n",
              "      <td>1.411071</td>\n",
              "      <td>-0.348494</td>\n",
              "      <td>-0.317652</td>\n",
              "      <td>-0.254002</td>\n",
              "      <td>-0.210265</td>\n",
              "      <td>0.01</td>\n",
              "      <td>0.101215</td>\n",
              "      <td>-0.193038</td>\n",
              "      <td>0.749095</td>\n",
              "      <td>-0.163229</td>\n",
              "      <td>0.890047</td>\n",
              "    </tr>\n",
              "    <tr>\n",
              "      <th>16718</th>\n",
              "      <td>1.582886</td>\n",
              "      <td>0.496940</td>\n",
              "      <td>1.630125</td>\n",
              "      <td>1.085523</td>\n",
              "      <td>1.154166</td>\n",
              "      <td>-0.362482</td>\n",
              "      <td>-0.317652</td>\n",
              "      <td>-0.221005</td>\n",
              "      <td>-0.210265</td>\n",
              "      <td>0.01</td>\n",
              "      <td>0.101215</td>\n",
              "      <td>-0.193038</td>\n",
              "      <td>0.749095</td>\n",
              "      <td>-0.163229</td>\n",
              "      <td>0.890047</td>\n",
              "    </tr>\n",
              "  </tbody>\n",
              "</table>\n",
              "<p>16717 rows × 15 columns</p>\n",
              "</div>\n",
              "      <button class=\"colab-df-convert\" onclick=\"convertToInteractive('df-1e880723-24d6-49c9-b80e-5b3e69fe51ec')\"\n",
              "              title=\"Convert this dataframe to an interactive table.\"\n",
              "              style=\"display:none;\">\n",
              "        \n",
              "  <svg xmlns=\"http://www.w3.org/2000/svg\" height=\"24px\"viewBox=\"0 0 24 24\"\n",
              "       width=\"24px\">\n",
              "    <path d=\"M0 0h24v24H0V0z\" fill=\"none\"/>\n",
              "    <path d=\"M18.56 5.44l.94 2.06.94-2.06 2.06-.94-2.06-.94-.94-2.06-.94 2.06-2.06.94zm-11 1L8.5 8.5l.94-2.06 2.06-.94-2.06-.94L8.5 2.5l-.94 2.06-2.06.94zm10 10l.94 2.06.94-2.06 2.06-.94-2.06-.94-.94-2.06-.94 2.06-2.06.94z\"/><path d=\"M17.41 7.96l-1.37-1.37c-.4-.4-.92-.59-1.43-.59-.52 0-1.04.2-1.43.59L10.3 9.45l-7.72 7.72c-.78.78-.78 2.05 0 2.83L4 21.41c.39.39.9.59 1.41.59.51 0 1.02-.2 1.41-.59l7.78-7.78 2.81-2.81c.8-.78.8-2.07 0-2.86zM5.41 20L4 18.59l7.72-7.72 1.47 1.35L5.41 20z\"/>\n",
              "  </svg>\n",
              "      </button>\n",
              "      \n",
              "  <style>\n",
              "    .colab-df-container {\n",
              "      display:flex;\n",
              "      flex-wrap:wrap;\n",
              "      gap: 12px;\n",
              "    }\n",
              "\n",
              "    .colab-df-convert {\n",
              "      background-color: #E8F0FE;\n",
              "      border: none;\n",
              "      border-radius: 50%;\n",
              "      cursor: pointer;\n",
              "      display: none;\n",
              "      fill: #1967D2;\n",
              "      height: 32px;\n",
              "      padding: 0 0 0 0;\n",
              "      width: 32px;\n",
              "    }\n",
              "\n",
              "    .colab-df-convert:hover {\n",
              "      background-color: #E2EBFA;\n",
              "      box-shadow: 0px 1px 2px rgba(60, 64, 67, 0.3), 0px 1px 3px 1px rgba(60, 64, 67, 0.15);\n",
              "      fill: #174EA6;\n",
              "    }\n",
              "\n",
              "    [theme=dark] .colab-df-convert {\n",
              "      background-color: #3B4455;\n",
              "      fill: #D2E3FC;\n",
              "    }\n",
              "\n",
              "    [theme=dark] .colab-df-convert:hover {\n",
              "      background-color: #434B5C;\n",
              "      box-shadow: 0px 1px 3px 1px rgba(0, 0, 0, 0.15);\n",
              "      filter: drop-shadow(0px 1px 2px rgba(0, 0, 0, 0.3));\n",
              "      fill: #FFFFFF;\n",
              "    }\n",
              "  </style>\n",
              "\n",
              "      <script>\n",
              "        const buttonEl =\n",
              "          document.querySelector('#df-1e880723-24d6-49c9-b80e-5b3e69fe51ec button.colab-df-convert');\n",
              "        buttonEl.style.display =\n",
              "          google.colab.kernel.accessAllowed ? 'block' : 'none';\n",
              "\n",
              "        async function convertToInteractive(key) {\n",
              "          const element = document.querySelector('#df-1e880723-24d6-49c9-b80e-5b3e69fe51ec');\n",
              "          const dataTable =\n",
              "            await google.colab.kernel.invokeFunction('convertToInteractive',\n",
              "                                                     [key], {});\n",
              "          if (!dataTable) return;\n",
              "\n",
              "          const docLinkHtml = 'Like what you see? Visit the ' +\n",
              "            '<a target=\"_blank\" href=https://colab.research.google.com/notebooks/data_table.ipynb>data table notebook</a>'\n",
              "            + ' to learn more about interactive tables.';\n",
              "          element.innerHTML = '';\n",
              "          dataTable['output_type'] = 'display_data';\n",
              "          await google.colab.output.renderOutput(dataTable, element);\n",
              "          const docLink = document.createElement('div');\n",
              "          docLink.innerHTML = docLinkHtml;\n",
              "          element.appendChild(docLink);\n",
              "        }\n",
              "      </script>\n",
              "    </div>\n",
              "  </div>\n",
              "  "
            ]
          },
          "metadata": {},
          "execution_count": 243
        }
      ]
    },
    {
      "cell_type": "markdown",
      "source": [
        "**Separar em features e target...**"
      ],
      "metadata": {
        "id": "q5N68Lr70Mb3"
      }
    },
    {
      "cell_type": "code",
      "execution_count": null,
      "metadata": {
        "id": "sUabPhTw9Z71"
      },
      "outputs": [],
      "source": [
        "X = df.drop(columns=\"Global_Sales\")\n",
        "y = df[\"Global_Sales\"]\n",
        "\n",
        "X_train, X_test, y_train, y_test = train_test_split(X, y, test_size=0.3, random_state=20)"
      ]
    },
    {
      "cell_type": "code",
      "execution_count": null,
      "metadata": {
        "colab": {
          "base_uri": "https://localhost:8080/"
        },
        "id": "7tcpqH9D9MnG",
        "outputId": "a088e16c-f815-4c07-f875-cb69dc977d3c"
      },
      "outputs": [
        {
          "output_type": "stream",
          "name": "stdout",
          "text": [
            "[15:45:20] WARNING: /workspace/src/objective/regression_obj.cu:152: reg:linear is now deprecated in favor of reg:squarederror.\n"
          ]
        }
      ],
      "source": [
        "xgbr = XGBRegressor().fit(X_train, y_train)"
      ]
    },
    {
      "cell_type": "code",
      "execution_count": null,
      "metadata": {
        "id": "ehtr4Q4U2oZo"
      },
      "outputs": [],
      "source": [
        "explainer = shap.TreeExplainer(xgbr)"
      ]
    },
    {
      "cell_type": "code",
      "execution_count": null,
      "metadata": {
        "id": "W8l_bj9H9ssm"
      },
      "outputs": [],
      "source": [
        "shap_vals = explainer.shap_values(X_train)"
      ]
    },
    {
      "cell_type": "markdown",
      "source": [
        "**Temos abaixo as Features que mais impactaram na escolha dos valores preditivos para todos os dados:**"
      ],
      "metadata": {
        "id": "Nf-PPooRRHTd"
      }
    },
    {
      "cell_type": "code",
      "execution_count": null,
      "metadata": {
        "colab": {
          "base_uri": "https://localhost:8080/",
          "height": 520
        },
        "id": "3yND9xNJ90j_",
        "outputId": "1b218fd2-e96a-417b-ee15-0ef3238b0c1d"
      },
      "outputs": [
        {
          "output_type": "display_data",
          "data": {
            "text/plain": [
              "<Figure size 576x511.2 with 1 Axes>"
            ],
            "image/png": "[encoded data removed]"
          },
          "metadata": {
            "needs_background": "light"
          }
        }
      ],
      "source": [
        "shap.summary_plot(shap_vals, X_train, plot_type=\"bar\")"
      ]
    },
    {
      "cell_type": "code",
      "source": [],
      "metadata": {
        "id": "XTTTx8SbnXSn"
      },
      "execution_count": null,
      "outputs": []
    },
    {
      "cell_type": "markdown",
      "source": [
        "Sobre o conjunto de dados\n",
        "Contexto\n",
        "Motivado pelo web scrape de Gregory Smith do VGChartz Video Games Sales , este conjunto de dados simplesmente estende o número de variáveis ​​com outro web scrape do Metacritic . Infelizmente, faltam observações, pois o Metacritic cobre apenas um subconjunto das plataformas. Além disso, um jogo pode não ter todas as observações das variáveis ​​adicionais discutidas abaixo.\n",
        "\n",
        "Contente\n",
        "Ao lado dos campos: Nome, Plataforma, Ano de Lançamento, Gênero, Editora, Vendas NA , Vendas da UE , Vendas JP , Outras Vendas, Vendas Globais, temos:-\n",
        "\n",
        "Critic_score - Pontuação agregada compilada pela equipe do Metacritic\n",
        "\n",
        "Contagem de críticos - O número de críticos usados ​​para criar a pontuação da crítica\n",
        "\n",
        "User_score - Pontuação dos assinantes do Metacritic\n",
        "\n",
        "Contagem de usuários - Número de usuários que deram a pontuação do usuário\n",
        "\n",
        "Desenvolvedor - Parte responsável pela criação do jogo\n",
        "\n",
        "Classificação - As classificações ESRB\n",
        "\n",
        "Reconhecimentos\n",
        "Este repositório, https://github.com/wtamu-cisresearch/scraper , após alguns ajustes funcionou extremamente bem!\n",
        "\n",
        "Inspiração\n",
        "Seria interessante ver quaisquer técnicas de aprendizado de máquina ou visualizações de dados contínuas aplicadas nesse conjunto de dados."
      ],
      "metadata": {
        "id": "6sWB-G8oNTmF"
      }
    },
    {
      "cell_type": "markdown",
      "source": [
        "# **Pré-processamento - Rede Neural**"
      ],
      "metadata": {
        "id": "C3oHtZBMeP7_"
      }
    },
    {
      "cell_type": "code",
      "execution_count": null,
      "metadata": {
        "id": "ZygKvbCeFDNc",
        "colab": {
          "base_uri": "https://localhost:8080/"
        },
        "outputId": "2f9e36a7-effa-416e-8bf4-c7ff4cd9b5ca"
      },
      "outputs": [
        {
          "output_type": "stream",
          "name": "stdout",
          "text": [
            "Looking in indexes: https://pypi.org/simple, https://us-python.pkg.dev/colab-wheels/public/simple/\n",
            "Requirement already satisfied: scikeras in /usr/local/lib/python3.7/dist-packages (0.9.0)\n",
            "Requirement already satisfied: scikit-learn>=1.0.0 in /usr/local/lib/python3.7/dist-packages (from scikeras) (1.0.2)\n",
            "Requirement already satisfied: packaging>=0.21 in /usr/local/lib/python3.7/dist-packages (from scikeras) (21.3)\n",
            "Requirement already satisfied: importlib-metadata>=3 in /usr/local/lib/python3.7/dist-packages (from scikeras) (4.12.0)\n",
            "Requirement already satisfied: typing-extensions>=3.6.4 in /usr/local/lib/python3.7/dist-packages (from importlib-metadata>=3->scikeras) (4.1.1)\n",
            "Requirement already satisfied: zipp>=0.5 in /usr/local/lib/python3.7/dist-packages (from importlib-metadata>=3->scikeras) (3.8.1)\n",
            "Requirement already satisfied: pyparsing!=3.0.5,>=2.0.2 in /usr/local/lib/python3.7/dist-packages (from packaging>=0.21->scikeras) (3.0.9)\n",
            "Requirement already satisfied: threadpoolctl>=2.0.0 in /usr/local/lib/python3.7/dist-packages (from scikit-learn>=1.0.0->scikeras) (3.1.0)\n",
            "Requirement already satisfied: numpy>=1.14.6 in /usr/local/lib/python3.7/dist-packages (from scikit-learn>=1.0.0->scikeras) (1.21.6)\n",
            "Requirement already satisfied: scipy>=1.1.0 in /usr/local/lib/python3.7/dist-packages (from scikit-learn>=1.0.0->scikeras) (1.7.3)\n",
            "Requirement already satisfied: joblib>=0.11 in /usr/local/lib/python3.7/dist-packages (from scikit-learn>=1.0.0->scikeras) (1.1.0)\n"
          ]
        }
      ],
      "source": [
        "!pip install scikeras"
      ]
    },
    {
      "cell_type": "code",
      "source": [
        "import numpy as np\n",
        "%matplotlib inline\n",
        "import pandas as pd\n",
        "import tensorflow as tf\n",
        "import matplotlib.pyplot as plt\n",
        "from keras.utils import np_utils\n",
        "from sklearn.pipeline import Pipeline\n",
        "from keras.layers import Dense, Dropout\n",
        "from sklearn.impute import SimpleImputer\n",
        "from tensorflow.keras import backend as k\n",
        "from sklearn.model_selection import KFold\n",
        "from scikeras.wrappers import KerasRegressor\n",
        "from sklearn.compose import ColumnTransformer\n",
        "from tensorflow.keras.models import Sequential\n",
        "from sklearn.model_selection import cross_val_score\n",
        "from sklearn.model_selection import train_test_split\n",
        "from sklearn.metrics import r2_score, mean_absolute_error, mean_squared_error\n",
        "from sklearn.preprocessing import StandardScaler, OneHotEncoder, OrdinalEncoder\n",
        "from sklearn.model_selection import GridSearchCV, StratifiedKFold, train_test_split\n",
        "\n",
        "\n",
        "# desabilita os warnings\n",
        "import warnings\n",
        "warnings.filterwarnings('ignore')"
      ],
      "metadata": {
        "id": "Z4-wh0jUK2cF"
      },
      "execution_count": null,
      "outputs": []
    },
    {
      "cell_type": "code",
      "source": [
        "df = pd.read_csv(\"games.csv\")"
      ],
      "metadata": {
        "id": "TXA_pA9ZK59b"
      },
      "execution_count": null,
      "outputs": []
    },
    {
      "cell_type": "code",
      "source": [
        "df.head()"
      ],
      "metadata": {
        "colab": {
          "base_uri": "https://localhost:8080/"
        },
        "id": "QBLduG9BqfTO",
        "outputId": "de3ec336-6cda-4650-977e-753055c4cfc5"
      },
      "execution_count": null,
      "outputs": [
        {
          "output_type": "execute_result",
          "data": {
            "text/plain": [
              "                       Name Platform  Year_of_Release         Genre Publisher  \\\n",
              "0                Wii Sports      Wii           2006.0        Sports  Nintendo   \n",
              "1         Super Mario Bros.      NES           1985.0      Platform  Nintendo   \n",
              "2            Mario Kart Wii      Wii           2008.0        Racing  Nintendo   \n",
              "3         Wii Sports Resort      Wii           2009.0        Sports  Nintendo   \n",
              "4  Pokemon Red/Pokemon Blue       GB           1996.0  Role-Playing  Nintendo   \n",
              "\n",
              "   NA_Sales  EU_Sales  JP_Sales  Other_Sales  Global_Sales  Critic_Score  \\\n",
              "0     41.36     28.96      3.77         8.45         82.53          76.0   \n",
              "1     29.08      3.58      6.81         0.77         40.24           NaN   \n",
              "2     15.68     12.76      3.79         3.29         35.52          82.0   \n",
              "3     15.61     10.93      3.28         2.95         32.77          80.0   \n",
              "4     11.27      8.89     10.22         1.00         31.37           NaN   \n",
              "\n",
              "   Critic_Count User_Score  User_Count Developer Rating  \n",
              "0          51.0          8       322.0  Nintendo      E  \n",
              "1           NaN        NaN         NaN       NaN    NaN  \n",
              "2          73.0        8.3       709.0  Nintendo      E  \n",
              "3          73.0          8       192.0  Nintendo      E  \n",
              "4           NaN        NaN         NaN       NaN    NaN  "
            ],
            "text/html": [
              "\n",
              "  <div id=\"df-4996b33c-2329-412b-b55e-22aa5274b99d\">\n",
              "    <div class=\"colab-df-container\">\n",
              "      <div>\n",
              "<style scoped>\n",
              "    .dataframe tbody tr th:only-of-type {\n",
              "        vertical-align: middle;\n",
              "    }\n",
              "\n",
              "    .dataframe tbody tr th {\n",
              "        vertical-align: top;\n",
              "    }\n",
              "\n",
              "    .dataframe thead th {\n",
              "        text-align: right;\n",
              "    }\n",
              "</style>\n",
              "<table border=\"1\" class=\"dataframe\">\n",
              "  <thead>\n",
              "    <tr style=\"text-align: right;\">\n",
              "      <th></th>\n",
              "      <th>Name</th>\n",
              "      <th>Platform</th>\n",
              "      <th>Year_of_Release</th>\n",
              "      <th>Genre</th>\n",
              "      <th>Publisher</th>\n",
              "      <th>NA_Sales</th>\n",
              "      <th>EU_Sales</th>\n",
              "      <th>JP_Sales</th>\n",
              "      <th>Other_Sales</th>\n",
              "      <th>Global_Sales</th>\n",
              "      <th>Critic_Score</th>\n",
              "      <th>Critic_Count</th>\n",
              "      <th>User_Score</th>\n",
              "      <th>User_Count</th>\n",
              "      <th>Developer</th>\n",
              "      <th>Rating</th>\n",
              "    </tr>\n",
              "  </thead>\n",
              "  <tbody>\n",
              "    <tr>\n",
              "      <th>0</th>\n",
              "      <td>Wii Sports</td>\n",
              "      <td>Wii</td>\n",
              "      <td>2006.0</td>\n",
              "      <td>Sports</td>\n",
              "      <td>Nintendo</td>\n",
              "      <td>41.36</td>\n",
              "      <td>28.96</td>\n",
              "      <td>3.77</td>\n",
              "      <td>8.45</td>\n",
              "      <td>82.53</td>\n",
              "      <td>76.0</td>\n",
              "      <td>51.0</td>\n",
              "      <td>8</td>\n",
              "      <td>322.0</td>\n",
              "      <td>Nintendo</td>\n",
              "      <td>E</td>\n",
              "    </tr>\n",
              "    <tr>\n",
              "      <th>1</th>\n",
              "      <td>Super Mario Bros.</td>\n",
              "      <td>NES</td>\n",
              "      <td>1985.0</td>\n",
              "      <td>Platform</td>\n",
              "      <td>Nintendo</td>\n",
              "      <td>29.08</td>\n",
              "      <td>3.58</td>\n",
              "      <td>6.81</td>\n",
              "      <td>0.77</td>\n",
              "      <td>40.24</td>\n",
              "      <td>NaN</td>\n",
              "      <td>NaN</td>\n",
              "      <td>NaN</td>\n",
              "      <td>NaN</td>\n",
              "      <td>NaN</td>\n",
              "      <td>NaN</td>\n",
              "    </tr>\n",
              "    <tr>\n",
              "      <th>2</th>\n",
              "      <td>Mario Kart Wii</td>\n",
              "      <td>Wii</td>\n",
              "      <td>2008.0</td>\n",
              "      <td>Racing</td>\n",
              "      <td>Nintendo</td>\n",
              "      <td>15.68</td>\n",
              "      <td>12.76</td>\n",
              "      <td>3.79</td>\n",
              "      <td>3.29</td>\n",
              "      <td>35.52</td>\n",
              "      <td>82.0</td>\n",
              "      <td>73.0</td>\n",
              "      <td>8.3</td>\n",
              "      <td>709.0</td>\n",
              "      <td>Nintendo</td>\n",
              "      <td>E</td>\n",
              "    </tr>\n",
              "    <tr>\n",
              "      <th>3</th>\n",
              "      <td>Wii Sports Resort</td>\n",
              "      <td>Wii</td>\n",
              "      <td>2009.0</td>\n",
              "      <td>Sports</td>\n",
              "      <td>Nintendo</td>\n",
              "      <td>15.61</td>\n",
              "      <td>10.93</td>\n",
              "      <td>3.28</td>\n",
              "      <td>2.95</td>\n",
              "      <td>32.77</td>\n",
              "      <td>80.0</td>\n",
              "      <td>73.0</td>\n",
              "      <td>8</td>\n",
              "      <td>192.0</td>\n",
              "      <td>Nintendo</td>\n",
              "      <td>E</td>\n",
              "    </tr>\n",
              "    <tr>\n",
              "      <th>4</th>\n",
              "      <td>Pokemon Red/Pokemon Blue</td>\n",
              "      <td>GB</td>\n",
              "      <td>1996.0</td>\n",
              "      <td>Role-Playing</td>\n",
              "      <td>Nintendo</td>\n",
              "      <td>11.27</td>\n",
              "      <td>8.89</td>\n",
              "      <td>10.22</td>\n",
              "      <td>1.00</td>\n",
              "      <td>31.37</td>\n",
              "      <td>NaN</td>\n",
              "      <td>NaN</td>\n",
              "      <td>NaN</td>\n",
              "      <td>NaN</td>\n",
              "      <td>NaN</td>\n",
              "      <td>NaN</td>\n",
              "    </tr>\n",
              "  </tbody>\n",
              "</table>\n",
              "</div>\n",
              "      <button class=\"colab-df-convert\" onclick=\"convertToInteractive('df-4996b33c-2329-412b-b55e-22aa5274b99d')\"\n",
              "              title=\"Convert this dataframe to an interactive table.\"\n",
              "              style=\"display:none;\">\n",
              "        \n",
              "  <svg xmlns=\"http://www.w3.org/2000/svg\" height=\"24px\"viewBox=\"0 0 24 24\"\n",
              "       width=\"24px\">\n",
              "    <path d=\"M0 0h24v24H0V0z\" fill=\"none\"/>\n",
              "    <path d=\"M18.56 5.44l.94 2.06.94-2.06 2.06-.94-2.06-.94-.94-2.06-.94 2.06-2.06.94zm-11 1L8.5 8.5l.94-2.06 2.06-.94-2.06-.94L8.5 2.5l-.94 2.06-2.06.94zm10 10l.94 2.06.94-2.06 2.06-.94-2.06-.94-.94-2.06-.94 2.06-2.06.94z\"/><path d=\"M17.41 7.96l-1.37-1.37c-.4-.4-.92-.59-1.43-.59-.52 0-1.04.2-1.43.59L10.3 9.45l-7.72 7.72c-.78.78-.78 2.05 0 2.83L4 21.41c.39.39.9.59 1.41.59.51 0 1.02-.2 1.41-.59l7.78-7.78 2.81-2.81c.8-.78.8-2.07 0-2.86zM5.41 20L4 18.59l7.72-7.72 1.47 1.35L5.41 20z\"/>\n",
              "  </svg>\n",
              "      </button>\n",
              "      \n",
              "  <style>\n",
              "    .colab-df-container {\n",
              "      display:flex;\n",
              "      flex-wrap:wrap;\n",
              "      gap: 12px;\n",
              "    }\n",
              "\n",
              "    .colab-df-convert {\n",
              "      background-color: #E8F0FE;\n",
              "      border: none;\n",
              "      border-radius: 50%;\n",
              "      cursor: pointer;\n",
              "      display: none;\n",
              "      fill: #1967D2;\n",
              "      height: 32px;\n",
              "      padding: 0 0 0 0;\n",
              "      width: 32px;\n",
              "    }\n",
              "\n",
              "    .colab-df-convert:hover {\n",
              "      background-color: #E2EBFA;\n",
              "      box-shadow: 0px 1px 2px rgba(60, 64, 67, 0.3), 0px 1px 3px 1px rgba(60, 64, 67, 0.15);\n",
              "      fill: #174EA6;\n",
              "    }\n",
              "\n",
              "    [theme=dark] .colab-df-convert {\n",
              "      background-color: #3B4455;\n",
              "      fill: #D2E3FC;\n",
              "    }\n",
              "\n",
              "    [theme=dark] .colab-df-convert:hover {\n",
              "      background-color: #434B5C;\n",
              "      box-shadow: 0px 1px 3px 1px rgba(0, 0, 0, 0.15);\n",
              "      filter: drop-shadow(0px 1px 2px rgba(0, 0, 0, 0.3));\n",
              "      fill: #FFFFFF;\n",
              "    }\n",
              "  </style>\n",
              "\n",
              "      <script>\n",
              "        const buttonEl =\n",
              "          document.querySelector('#df-4996b33c-2329-412b-b55e-22aa5274b99d button.colab-df-convert');\n",
              "        buttonEl.style.display =\n",
              "          google.colab.kernel.accessAllowed ? 'block' : 'none';\n",
              "\n",
              "        async function convertToInteractive(key) {\n",
              "          const element = document.querySelector('#df-4996b33c-2329-412b-b55e-22aa5274b99d');\n",
              "          const dataTable =\n",
              "            await google.colab.kernel.invokeFunction('convertToInteractive',\n",
              "                                                     [key], {});\n",
              "          if (!dataTable) return;\n",
              "\n",
              "          const docLinkHtml = 'Like what you see? Visit the ' +\n",
              "            '<a target=\"_blank\" href=https://colab.research.google.com/notebooks/data_table.ipynb>data table notebook</a>'\n",
              "            + ' to learn more about interactive tables.';\n",
              "          element.innerHTML = '';\n",
              "          dataTable['output_type'] = 'display_data';\n",
              "          await google.colab.output.renderOutput(dataTable, element);\n",
              "          const docLink = document.createElement('div');\n",
              "          docLink.innerHTML = docLinkHtml;\n",
              "          element.appendChild(docLink);\n",
              "        }\n",
              "      </script>\n",
              "    </div>\n",
              "  </div>\n",
              "  "
            ]
          },
          "metadata": {},
          "execution_count": 7
        }
      ]
    },
    {
      "cell_type": "markdown",
      "source": [
        "Vamoa retirar os dados onde o valor das vendas nos EUA for zero ou menor que US$ 1,00"
      ],
      "metadata": {
        "id": "kbHtBPlyYbbe"
      }
    },
    {
      "cell_type": "code",
      "source": [
        "df = df[df[\"NA_Sales\"] > 1]\n",
        "df = df[df[\"EU_Sales\"] > 1]"
      ],
      "metadata": {
        "id": "JC2Li6l8Yz77"
      },
      "execution_count": null,
      "outputs": []
    },
    {
      "cell_type": "markdown",
      "source": [
        "**Vamos  excluir a \"Developer\", pois é uma coluna semelhante a \"Publisher\"**"
      ],
      "metadata": {
        "id": "VaSuC_4_NxTE"
      }
    },
    {
      "cell_type": "code",
      "source": [
        "df.drop(columns=[\"Developer\"], axis=1, inplace=True)"
      ],
      "metadata": {
        "id": "8wSug2_nOiPE"
      },
      "execution_count": null,
      "outputs": []
    },
    {
      "cell_type": "markdown",
      "source": [
        "**Verificando se há dados nulos**"
      ],
      "metadata": {
        "id": "-qncYqEpqqaG"
      }
    },
    {
      "cell_type": "code",
      "source": [
        "df.info()"
      ],
      "metadata": {
        "colab": {
          "base_uri": "https://localhost:8080/"
        },
        "id": "VsAVfzhEqjow",
        "outputId": "e9954858-8535-4a53-9f19-5425f91cb7c0"
      },
      "execution_count": null,
      "outputs": [
        {
          "output_type": "stream",
          "name": "stdout",
          "text": [
            "<class 'pandas.core.frame.DataFrame'>\n",
            "Int64Index: 355 entries, 0 to 636\n",
            "Data columns (total 15 columns):\n",
            " #   Column           Non-Null Count  Dtype  \n",
            "---  ------           --------------  -----  \n",
            " 0   Name             355 non-null    object \n",
            " 1   Platform         355 non-null    object \n",
            " 2   Year_of_Release  354 non-null    float64\n",
            " 3   Genre            355 non-null    object \n",
            " 4   Publisher        354 non-null    object \n",
            " 5   NA_Sales         355 non-null    float64\n",
            " 6   EU_Sales         355 non-null    float64\n",
            " 7   JP_Sales         355 non-null    float64\n",
            " 8   Other_Sales      355 non-null    float64\n",
            " 9   Global_Sales     355 non-null    float64\n",
            " 10  Critic_Score     260 non-null    float64\n",
            " 11  Critic_Count     260 non-null    float64\n",
            " 12  User_Score       267 non-null    object \n",
            " 13  User_Count       264 non-null    float64\n",
            " 14  Rating           268 non-null    object \n",
            "dtypes: float64(9), object(6)\n",
            "memory usage: 44.4+ KB\n"
          ]
        }
      ]
    },
    {
      "cell_type": "code",
      "source": [
        "df.isna().sum()"
      ],
      "metadata": {
        "colab": {
          "base_uri": "https://localhost:8080/"
        },
        "id": "ExSnByicqw2e",
        "outputId": "7e0708ca-11a2-486e-9b75-661d80a73511"
      },
      "execution_count": null,
      "outputs": [
        {
          "output_type": "execute_result",
          "data": {
            "text/plain": [
              "Name                0\n",
              "Platform            0\n",
              "Year_of_Release     1\n",
              "Genre               0\n",
              "Publisher           1\n",
              "NA_Sales            0\n",
              "EU_Sales            0\n",
              "JP_Sales            0\n",
              "Other_Sales         0\n",
              "Global_Sales        0\n",
              "Critic_Score       95\n",
              "Critic_Count       95\n",
              "User_Score         88\n",
              "User_Count         91\n",
              "Rating             87\n",
              "dtype: int64"
            ]
          },
          "metadata": {},
          "execution_count": 11
        }
      ]
    },
    {
      "cell_type": "code",
      "source": [
        "df.info()"
      ],
      "metadata": {
        "colab": {
          "base_uri": "https://localhost:8080/"
        },
        "id": "GnA2RhR4Sy3d",
        "outputId": "a26ff2f5-4cdc-44ca-a75b-14d0245d2bd0"
      },
      "execution_count": null,
      "outputs": [
        {
          "output_type": "stream",
          "name": "stdout",
          "text": [
            "<class 'pandas.core.frame.DataFrame'>\n",
            "Int64Index: 355 entries, 0 to 636\n",
            "Data columns (total 15 columns):\n",
            " #   Column           Non-Null Count  Dtype  \n",
            "---  ------           --------------  -----  \n",
            " 0   Name             355 non-null    object \n",
            " 1   Platform         355 non-null    object \n",
            " 2   Year_of_Release  354 non-null    float64\n",
            " 3   Genre            355 non-null    object \n",
            " 4   Publisher        354 non-null    object \n",
            " 5   NA_Sales         355 non-null    float64\n",
            " 6   EU_Sales         355 non-null    float64\n",
            " 7   JP_Sales         355 non-null    float64\n",
            " 8   Other_Sales      355 non-null    float64\n",
            " 9   Global_Sales     355 non-null    float64\n",
            " 10  Critic_Score     260 non-null    float64\n",
            " 11  Critic_Count     260 non-null    float64\n",
            " 12  User_Score       267 non-null    object \n",
            " 13  User_Count       264 non-null    float64\n",
            " 14  Rating           268 non-null    object \n",
            "dtypes: float64(9), object(6)\n",
            "memory usage: 44.4+ KB\n"
          ]
        }
      ]
    },
    {
      "cell_type": "markdown",
      "source": [
        "Verificando dados duplicados"
      ],
      "metadata": {
        "id": "sON6MQhiZsKz"
      }
    },
    {
      "cell_type": "code",
      "source": [
        "df.duplicated().sum()"
      ],
      "metadata": {
        "colab": {
          "base_uri": "https://localhost:8080/"
        },
        "id": "20n0yM7eZm4j",
        "outputId": "5d050bd9-5e15-4062-c03f-78817854f30c"
      },
      "execution_count": null,
      "outputs": [
        {
          "output_type": "execute_result",
          "data": {
            "text/plain": [
              "0"
            ]
          },
          "metadata": {},
          "execution_count": 13
        }
      ]
    },
    {
      "cell_type": "code",
      "source": [
        "df.describe()"
      ],
      "metadata": {
        "colab": {
          "base_uri": "https://localhost:8080/"
        },
        "id": "T8lk_yo-NRJd",
        "outputId": "eabcbdbc-ad84-4c49-ea90-f2033aa21063"
      },
      "execution_count": null,
      "outputs": [
        {
          "output_type": "execute_result",
          "data": {
            "text/plain": [
              "       Year_of_Release    NA_Sales    EU_Sales    JP_Sales  Other_Sales  \\\n",
              "count       354.000000  355.000000  355.000000  355.000000   355.000000   \n",
              "mean       2006.042373    3.431944    2.292901    0.769183     0.638254   \n",
              "std           6.129473    3.638778    2.220005    1.399739     0.677401   \n",
              "min        1985.000000    1.010000    1.010000    0.000000     0.000000   \n",
              "25%        2002.000000    1.660000    1.225000    0.035000     0.290000   \n",
              "50%        2007.000000    2.450000    1.690000    0.130000     0.460000   \n",
              "75%        2011.000000    3.670000    2.365000    0.850000     0.755000   \n",
              "max        2016.000000   41.360000   28.960000   10.220000     8.450000   \n",
              "\n",
              "       Global_Sales  Critic_Score  Critic_Count    User_Count  \n",
              "count    355.000000    260.000000    260.000000    264.000000  \n",
              "mean       7.131915     83.857692     51.130769   1068.598485  \n",
              "std        6.915759      9.589597     26.561763   1619.181563  \n",
              "min        2.430000     49.000000      8.000000      6.000000  \n",
              "25%        3.645000     79.000000     28.750000    105.750000  \n",
              "50%        5.020000     85.000000     48.500000    445.000000  \n",
              "75%        7.590000     91.000000     73.000000   1310.250000  \n",
              "max       82.530000     98.000000    113.000000  10179.000000  "
            ],
            "text/html": [
              "\n",
              "  <div id=\"df-ccc760ca-62a4-4039-978f-a6d703878bfc\">\n",
              "    <div class=\"colab-df-container\">\n",
              "      <div>\n",
              "<style scoped>\n",
              "    .dataframe tbody tr th:only-of-type {\n",
              "        vertical-align: middle;\n",
              "    }\n",
              "\n",
              "    .dataframe tbody tr th {\n",
              "        vertical-align: top;\n",
              "    }\n",
              "\n",
              "    .dataframe thead th {\n",
              "        text-align: right;\n",
              "    }\n",
              "</style>\n",
              "<table border=\"1\" class=\"dataframe\">\n",
              "  <thead>\n",
              "    <tr style=\"text-align: right;\">\n",
              "      <th></th>\n",
              "      <th>Year_of_Release</th>\n",
              "      <th>NA_Sales</th>\n",
              "      <th>EU_Sales</th>\n",
              "      <th>JP_Sales</th>\n",
              "      <th>Other_Sales</th>\n",
              "      <th>Global_Sales</th>\n",
              "      <th>Critic_Score</th>\n",
              "      <th>Critic_Count</th>\n",
              "      <th>User_Count</th>\n",
              "    </tr>\n",
              "  </thead>\n",
              "  <tbody>\n",
              "    <tr>\n",
              "      <th>count</th>\n",
              "      <td>354.000000</td>\n",
              "      <td>355.000000</td>\n",
              "      <td>355.000000</td>\n",
              "      <td>355.000000</td>\n",
              "      <td>355.000000</td>\n",
              "      <td>355.000000</td>\n",
              "      <td>260.000000</td>\n",
              "      <td>260.000000</td>\n",
              "      <td>264.000000</td>\n",
              "    </tr>\n",
              "    <tr>\n",
              "      <th>mean</th>\n",
              "      <td>2006.042373</td>\n",
              "      <td>3.431944</td>\n",
              "      <td>2.292901</td>\n",
              "      <td>0.769183</td>\n",
              "      <td>0.638254</td>\n",
              "      <td>7.131915</td>\n",
              "      <td>83.857692</td>\n",
              "      <td>51.130769</td>\n",
              "      <td>1068.598485</td>\n",
              "    </tr>\n",
              "    <tr>\n",
              "      <th>std</th>\n",
              "      <td>6.129473</td>\n",
              "      <td>3.638778</td>\n",
              "      <td>2.220005</td>\n",
              "      <td>1.399739</td>\n",
              "      <td>0.677401</td>\n",
              "      <td>6.915759</td>\n",
              "      <td>9.589597</td>\n",
              "      <td>26.561763</td>\n",
              "      <td>1619.181563</td>\n",
              "    </tr>\n",
              "    <tr>\n",
              "      <th>min</th>\n",
              "      <td>1985.000000</td>\n",
              "      <td>1.010000</td>\n",
              "      <td>1.010000</td>\n",
              "      <td>0.000000</td>\n",
              "      <td>0.000000</td>\n",
              "      <td>2.430000</td>\n",
              "      <td>49.000000</td>\n",
              "      <td>8.000000</td>\n",
              "      <td>6.000000</td>\n",
              "    </tr>\n",
              "    <tr>\n",
              "      <th>25%</th>\n",
              "      <td>2002.000000</td>\n",
              "      <td>1.660000</td>\n",
              "      <td>1.225000</td>\n",
              "      <td>0.035000</td>\n",
              "      <td>0.290000</td>\n",
              "      <td>3.645000</td>\n",
              "      <td>79.000000</td>\n",
              "      <td>28.750000</td>\n",
              "      <td>105.750000</td>\n",
              "    </tr>\n",
              "    <tr>\n",
              "      <th>50%</th>\n",
              "      <td>2007.000000</td>\n",
              "      <td>2.450000</td>\n",
              "      <td>1.690000</td>\n",
              "      <td>0.130000</td>\n",
              "      <td>0.460000</td>\n",
              "      <td>5.020000</td>\n",
              "      <td>85.000000</td>\n",
              "      <td>48.500000</td>\n",
              "      <td>445.000000</td>\n",
              "    </tr>\n",
              "    <tr>\n",
              "      <th>75%</th>\n",
              "      <td>2011.000000</td>\n",
              "      <td>3.670000</td>\n",
              "      <td>2.365000</td>\n",
              "      <td>0.850000</td>\n",
              "      <td>0.755000</td>\n",
              "      <td>7.590000</td>\n",
              "      <td>91.000000</td>\n",
              "      <td>73.000000</td>\n",
              "      <td>1310.250000</td>\n",
              "    </tr>\n",
              "    <tr>\n",
              "      <th>max</th>\n",
              "      <td>2016.000000</td>\n",
              "      <td>41.360000</td>\n",
              "      <td>28.960000</td>\n",
              "      <td>10.220000</td>\n",
              "      <td>8.450000</td>\n",
              "      <td>82.530000</td>\n",
              "      <td>98.000000</td>\n",
              "      <td>113.000000</td>\n",
              "      <td>10179.000000</td>\n",
              "    </tr>\n",
              "  </tbody>\n",
              "</table>\n",
              "</div>\n",
              "      <button class=\"colab-df-convert\" onclick=\"convertToInteractive('df-ccc760ca-62a4-4039-978f-a6d703878bfc')\"\n",
              "              title=\"Convert this dataframe to an interactive table.\"\n",
              "              style=\"display:none;\">\n",
              "        \n",
              "  <svg xmlns=\"http://www.w3.org/2000/svg\" height=\"24px\"viewBox=\"0 0 24 24\"\n",
              "       width=\"24px\">\n",
              "    <path d=\"M0 0h24v24H0V0z\" fill=\"none\"/>\n",
              "    <path d=\"M18.56 5.44l.94 2.06.94-2.06 2.06-.94-2.06-.94-.94-2.06-.94 2.06-2.06.94zm-11 1L8.5 8.5l.94-2.06 2.06-.94-2.06-.94L8.5 2.5l-.94 2.06-2.06.94zm10 10l.94 2.06.94-2.06 2.06-.94-2.06-.94-.94-2.06-.94 2.06-2.06.94z\"/><path d=\"M17.41 7.96l-1.37-1.37c-.4-.4-.92-.59-1.43-.59-.52 0-1.04.2-1.43.59L10.3 9.45l-7.72 7.72c-.78.78-.78 2.05 0 2.83L4 21.41c.39.39.9.59 1.41.59.51 0 1.02-.2 1.41-.59l7.78-7.78 2.81-2.81c.8-.78.8-2.07 0-2.86zM5.41 20L4 18.59l7.72-7.72 1.47 1.35L5.41 20z\"/>\n",
              "  </svg>\n",
              "      </button>\n",
              "      \n",
              "  <style>\n",
              "    .colab-df-container {\n",
              "      display:flex;\n",
              "      flex-wrap:wrap;\n",
              "      gap: 12px;\n",
              "    }\n",
              "\n",
              "    .colab-df-convert {\n",
              "      background-color: #E8F0FE;\n",
              "      border: none;\n",
              "      border-radius: 50%;\n",
              "      cursor: pointer;\n",
              "      display: none;\n",
              "      fill: #1967D2;\n",
              "      height: 32px;\n",
              "      padding: 0 0 0 0;\n",
              "      width: 32px;\n",
              "    }\n",
              "\n",
              "    .colab-df-convert:hover {\n",
              "      background-color: #E2EBFA;\n",
              "      box-shadow: 0px 1px 2px rgba(60, 64, 67, 0.3), 0px 1px 3px 1px rgba(60, 64, 67, 0.15);\n",
              "      fill: #174EA6;\n",
              "    }\n",
              "\n",
              "    [theme=dark] .colab-df-convert {\n",
              "      background-color: #3B4455;\n",
              "      fill: #D2E3FC;\n",
              "    }\n",
              "\n",
              "    [theme=dark] .colab-df-convert:hover {\n",
              "      background-color: #434B5C;\n",
              "      box-shadow: 0px 1px 3px 1px rgba(0, 0, 0, 0.15);\n",
              "      filter: drop-shadow(0px 1px 2px rgba(0, 0, 0, 0.3));\n",
              "      fill: #FFFFFF;\n",
              "    }\n",
              "  </style>\n",
              "\n",
              "      <script>\n",
              "        const buttonEl =\n",
              "          document.querySelector('#df-ccc760ca-62a4-4039-978f-a6d703878bfc button.colab-df-convert');\n",
              "        buttonEl.style.display =\n",
              "          google.colab.kernel.accessAllowed ? 'block' : 'none';\n",
              "\n",
              "        async function convertToInteractive(key) {\n",
              "          const element = document.querySelector('#df-ccc760ca-62a4-4039-978f-a6d703878bfc');\n",
              "          const dataTable =\n",
              "            await google.colab.kernel.invokeFunction('convertToInteractive',\n",
              "                                                     [key], {});\n",
              "          if (!dataTable) return;\n",
              "\n",
              "          const docLinkHtml = 'Like what you see? Visit the ' +\n",
              "            '<a target=\"_blank\" href=https://colab.research.google.com/notebooks/data_table.ipynb>data table notebook</a>'\n",
              "            + ' to learn more about interactive tables.';\n",
              "          element.innerHTML = '';\n",
              "          dataTable['output_type'] = 'display_data';\n",
              "          await google.colab.output.renderOutput(dataTable, element);\n",
              "          const docLink = document.createElement('div');\n",
              "          docLink.innerHTML = docLinkHtml;\n",
              "          element.appendChild(docLink);\n",
              "        }\n",
              "      </script>\n",
              "    </div>\n",
              "  </div>\n",
              "  "
            ]
          },
          "metadata": {},
          "execution_count": 14
        }
      ]
    },
    {
      "cell_type": "code",
      "source": [
        "df.info()"
      ],
      "metadata": {
        "colab": {
          "base_uri": "https://localhost:8080/"
        },
        "id": "rz2S2VrbXr9E",
        "outputId": "f4e5fb2a-a9b4-4352-87db-372f6fe770a9"
      },
      "execution_count": null,
      "outputs": [
        {
          "output_type": "stream",
          "name": "stdout",
          "text": [
            "<class 'pandas.core.frame.DataFrame'>\n",
            "Int64Index: 355 entries, 0 to 636\n",
            "Data columns (total 15 columns):\n",
            " #   Column           Non-Null Count  Dtype  \n",
            "---  ------           --------------  -----  \n",
            " 0   Name             355 non-null    object \n",
            " 1   Platform         355 non-null    object \n",
            " 2   Year_of_Release  354 non-null    float64\n",
            " 3   Genre            355 non-null    object \n",
            " 4   Publisher        354 non-null    object \n",
            " 5   NA_Sales         355 non-null    float64\n",
            " 6   EU_Sales         355 non-null    float64\n",
            " 7   JP_Sales         355 non-null    float64\n",
            " 8   Other_Sales      355 non-null    float64\n",
            " 9   Global_Sales     355 non-null    float64\n",
            " 10  Critic_Score     260 non-null    float64\n",
            " 11  Critic_Count     260 non-null    float64\n",
            " 12  User_Score       267 non-null    object \n",
            " 13  User_Count       264 non-null    float64\n",
            " 14  Rating           268 non-null    object \n",
            "dtypes: float64(9), object(6)\n",
            "memory usage: 44.4+ KB\n"
          ]
        }
      ]
    },
    {
      "cell_type": "code",
      "source": [
        "df.head()"
      ],
      "metadata": {
        "colab": {
          "base_uri": "https://localhost:8080/"
        },
        "id": "-8MjYWSdVh4u",
        "outputId": "573a8b3b-f9f4-484d-ec80-289bc91db50f"
      },
      "execution_count": null,
      "outputs": [
        {
          "output_type": "execute_result",
          "data": {
            "text/plain": [
              "                       Name Platform  Year_of_Release         Genre Publisher  \\\n",
              "0                Wii Sports      Wii           2006.0        Sports  Nintendo   \n",
              "1         Super Mario Bros.      NES           1985.0      Platform  Nintendo   \n",
              "2            Mario Kart Wii      Wii           2008.0        Racing  Nintendo   \n",
              "3         Wii Sports Resort      Wii           2009.0        Sports  Nintendo   \n",
              "4  Pokemon Red/Pokemon Blue       GB           1996.0  Role-Playing  Nintendo   \n",
              "\n",
              "   NA_Sales  EU_Sales  JP_Sales  Other_Sales  Global_Sales  Critic_Score  \\\n",
              "0     41.36     28.96      3.77         8.45         82.53          76.0   \n",
              "1     29.08      3.58      6.81         0.77         40.24           NaN   \n",
              "2     15.68     12.76      3.79         3.29         35.52          82.0   \n",
              "3     15.61     10.93      3.28         2.95         32.77          80.0   \n",
              "4     11.27      8.89     10.22         1.00         31.37           NaN   \n",
              "\n",
              "   Critic_Count User_Score  User_Count Rating  \n",
              "0          51.0          8       322.0      E  \n",
              "1           NaN        NaN         NaN    NaN  \n",
              "2          73.0        8.3       709.0      E  \n",
              "3          73.0          8       192.0      E  \n",
              "4           NaN        NaN         NaN    NaN  "
            ],
            "text/html": [
              "\n",
              "  <div id=\"df-57528ccc-80ab-4acc-b011-17053b5a2ed3\">\n",
              "    <div class=\"colab-df-container\">\n",
              "      <div>\n",
              "<style scoped>\n",
              "    .dataframe tbody tr th:only-of-type {\n",
              "        vertical-align: middle;\n",
              "    }\n",
              "\n",
              "    .dataframe tbody tr th {\n",
              "        vertical-align: top;\n",
              "    }\n",
              "\n",
              "    .dataframe thead th {\n",
              "        text-align: right;\n",
              "    }\n",
              "</style>\n",
              "<table border=\"1\" class=\"dataframe\">\n",
              "  <thead>\n",
              "    <tr style=\"text-align: right;\">\n",
              "      <th></th>\n",
              "      <th>Name</th>\n",
              "      <th>Platform</th>\n",
              "      <th>Year_of_Release</th>\n",
              "      <th>Genre</th>\n",
              "      <th>Publisher</th>\n",
              "      <th>NA_Sales</th>\n",
              "      <th>EU_Sales</th>\n",
              "      <th>JP_Sales</th>\n",
              "      <th>Other_Sales</th>\n",
              "      <th>Global_Sales</th>\n",
              "      <th>Critic_Score</th>\n",
              "      <th>Critic_Count</th>\n",
              "      <th>User_Score</th>\n",
              "      <th>User_Count</th>\n",
              "      <th>Rating</th>\n",
              "    </tr>\n",
              "  </thead>\n",
              "  <tbody>\n",
              "    <tr>\n",
              "      <th>0</th>\n",
              "      <td>Wii Sports</td>\n",
              "      <td>Wii</td>\n",
              "      <td>2006.0</td>\n",
              "      <td>Sports</td>\n",
              "      <td>Nintendo</td>\n",
              "      <td>41.36</td>\n",
              "      <td>28.96</td>\n",
              "      <td>3.77</td>\n",
              "      <td>8.45</td>\n",
              "      <td>82.53</td>\n",
              "      <td>76.0</td>\n",
              "      <td>51.0</td>\n",
              "      <td>8</td>\n",
              "      <td>322.0</td>\n",
              "      <td>E</td>\n",
              "    </tr>\n",
              "    <tr>\n",
              "      <th>1</th>\n",
              "      <td>Super Mario Bros.</td>\n",
              "      <td>NES</td>\n",
              "      <td>1985.0</td>\n",
              "      <td>Platform</td>\n",
              "      <td>Nintendo</td>\n",
              "      <td>29.08</td>\n",
              "      <td>3.58</td>\n",
              "      <td>6.81</td>\n",
              "      <td>0.77</td>\n",
              "      <td>40.24</td>\n",
              "      <td>NaN</td>\n",
              "      <td>NaN</td>\n",
              "      <td>NaN</td>\n",
              "      <td>NaN</td>\n",
              "      <td>NaN</td>\n",
              "    </tr>\n",
              "    <tr>\n",
              "      <th>2</th>\n",
              "      <td>Mario Kart Wii</td>\n",
              "      <td>Wii</td>\n",
              "      <td>2008.0</td>\n",
              "      <td>Racing</td>\n",
              "      <td>Nintendo</td>\n",
              "      <td>15.68</td>\n",
              "      <td>12.76</td>\n",
              "      <td>3.79</td>\n",
              "      <td>3.29</td>\n",
              "      <td>35.52</td>\n",
              "      <td>82.0</td>\n",
              "      <td>73.0</td>\n",
              "      <td>8.3</td>\n",
              "      <td>709.0</td>\n",
              "      <td>E</td>\n",
              "    </tr>\n",
              "    <tr>\n",
              "      <th>3</th>\n",
              "      <td>Wii Sports Resort</td>\n",
              "      <td>Wii</td>\n",
              "      <td>2009.0</td>\n",
              "      <td>Sports</td>\n",
              "      <td>Nintendo</td>\n",
              "      <td>15.61</td>\n",
              "      <td>10.93</td>\n",
              "      <td>3.28</td>\n",
              "      <td>2.95</td>\n",
              "      <td>32.77</td>\n",
              "      <td>80.0</td>\n",
              "      <td>73.0</td>\n",
              "      <td>8</td>\n",
              "      <td>192.0</td>\n",
              "      <td>E</td>\n",
              "    </tr>\n",
              "    <tr>\n",
              "      <th>4</th>\n",
              "      <td>Pokemon Red/Pokemon Blue</td>\n",
              "      <td>GB</td>\n",
              "      <td>1996.0</td>\n",
              "      <td>Role-Playing</td>\n",
              "      <td>Nintendo</td>\n",
              "      <td>11.27</td>\n",
              "      <td>8.89</td>\n",
              "      <td>10.22</td>\n",
              "      <td>1.00</td>\n",
              "      <td>31.37</td>\n",
              "      <td>NaN</td>\n",
              "      <td>NaN</td>\n",
              "      <td>NaN</td>\n",
              "      <td>NaN</td>\n",
              "      <td>NaN</td>\n",
              "    </tr>\n",
              "  </tbody>\n",
              "</table>\n",
              "</div>\n",
              "      <button class=\"colab-df-convert\" onclick=\"convertToInteractive('df-57528ccc-80ab-4acc-b011-17053b5a2ed3')\"\n",
              "              title=\"Convert this dataframe to an interactive table.\"\n",
              "              style=\"display:none;\">\n",
              "        \n",
              "  <svg xmlns=\"http://www.w3.org/2000/svg\" height=\"24px\"viewBox=\"0 0 24 24\"\n",
              "       width=\"24px\">\n",
              "    <path d=\"M0 0h24v24H0V0z\" fill=\"none\"/>\n",
              "    <path d=\"M18.56 5.44l.94 2.06.94-2.06 2.06-.94-2.06-.94-.94-2.06-.94 2.06-2.06.94zm-11 1L8.5 8.5l.94-2.06 2.06-.94-2.06-.94L8.5 2.5l-.94 2.06-2.06.94zm10 10l.94 2.06.94-2.06 2.06-.94-2.06-.94-.94-2.06-.94 2.06-2.06.94z\"/><path d=\"M17.41 7.96l-1.37-1.37c-.4-.4-.92-.59-1.43-.59-.52 0-1.04.2-1.43.59L10.3 9.45l-7.72 7.72c-.78.78-.78 2.05 0 2.83L4 21.41c.39.39.9.59 1.41.59.51 0 1.02-.2 1.41-.59l7.78-7.78 2.81-2.81c.8-.78.8-2.07 0-2.86zM5.41 20L4 18.59l7.72-7.72 1.47 1.35L5.41 20z\"/>\n",
              "  </svg>\n",
              "      </button>\n",
              "      \n",
              "  <style>\n",
              "    .colab-df-container {\n",
              "      display:flex;\n",
              "      flex-wrap:wrap;\n",
              "      gap: 12px;\n",
              "    }\n",
              "\n",
              "    .colab-df-convert {\n",
              "      background-color: #E8F0FE;\n",
              "      border: none;\n",
              "      border-radius: 50%;\n",
              "      cursor: pointer;\n",
              "      display: none;\n",
              "      fill: #1967D2;\n",
              "      height: 32px;\n",
              "      padding: 0 0 0 0;\n",
              "      width: 32px;\n",
              "    }\n",
              "\n",
              "    .colab-df-convert:hover {\n",
              "      background-color: #E2EBFA;\n",
              "      box-shadow: 0px 1px 2px rgba(60, 64, 67, 0.3), 0px 1px 3px 1px rgba(60, 64, 67, 0.15);\n",
              "      fill: #174EA6;\n",
              "    }\n",
              "\n",
              "    [theme=dark] .colab-df-convert {\n",
              "      background-color: #3B4455;\n",
              "      fill: #D2E3FC;\n",
              "    }\n",
              "\n",
              "    [theme=dark] .colab-df-convert:hover {\n",
              "      background-color: #434B5C;\n",
              "      box-shadow: 0px 1px 3px 1px rgba(0, 0, 0, 0.15);\n",
              "      filter: drop-shadow(0px 1px 2px rgba(0, 0, 0, 0.3));\n",
              "      fill: #FFFFFF;\n",
              "    }\n",
              "  </style>\n",
              "\n",
              "      <script>\n",
              "        const buttonEl =\n",
              "          document.querySelector('#df-57528ccc-80ab-4acc-b011-17053b5a2ed3 button.colab-df-convert');\n",
              "        buttonEl.style.display =\n",
              "          google.colab.kernel.accessAllowed ? 'block' : 'none';\n",
              "\n",
              "        async function convertToInteractive(key) {\n",
              "          const element = document.querySelector('#df-57528ccc-80ab-4acc-b011-17053b5a2ed3');\n",
              "          const dataTable =\n",
              "            await google.colab.kernel.invokeFunction('convertToInteractive',\n",
              "                                                     [key], {});\n",
              "          if (!dataTable) return;\n",
              "\n",
              "          const docLinkHtml = 'Like what you see? Visit the ' +\n",
              "            '<a target=\"_blank\" href=https://colab.research.google.com/notebooks/data_table.ipynb>data table notebook</a>'\n",
              "            + ' to learn more about interactive tables.';\n",
              "          element.innerHTML = '';\n",
              "          dataTable['output_type'] = 'display_data';\n",
              "          await google.colab.output.renderOutput(dataTable, element);\n",
              "          const docLink = document.createElement('div');\n",
              "          docLink.innerHTML = docLinkHtml;\n",
              "          element.appendChild(docLink);\n",
              "        }\n",
              "      </script>\n",
              "    </div>\n",
              "  </div>\n",
              "  "
            ]
          },
          "metadata": {},
          "execution_count": 16
        }
      ]
    },
    {
      "cell_type": "markdown",
      "source": [
        "**Agora vamos tratar o NaN nas Features numérica:**"
      ],
      "metadata": {
        "id": "i7VgjIAj2u_c"
      }
    },
    {
      "cell_type": "code",
      "source": [
        "#\"Year_of_Release\" \"Critic_Score\", \"Critic_Count\", \"User_Count\"\n",
        "ss = SimpleImputer(missing_values=np.nan, strategy=\"median\")\n",
        "ss.fit(df[[\"Year_of_Release\", \"Critic_Score\", \"Critic_Count\", \"User_Count\"]])\n",
        "\n",
        "m = ss.transform(df[[\"Year_of_Release\", \"Critic_Score\", \"Critic_Count\", \"User_Count\"]])\n",
        "df[[\"Year_of_Release\", \"Critic_Score\", \"Critic_Count\", \"User_Count\"]] = m"
      ],
      "metadata": {
        "id": "3hNBggoV21Ys"
      },
      "execution_count": null,
      "outputs": []
    },
    {
      "cell_type": "markdown",
      "source": [
        "**Agora vamos tratar o NaN nas Features categóricas**"
      ],
      "metadata": {
        "id": "tC1o5bMInYM-"
      }
    },
    {
      "cell_type": "code",
      "source": [
        "#\"User_Score\", \"Publisher\", \"Rating\"\n",
        "ss = SimpleImputer(strategy=\"constant\", fill_value=\"unknown\")\n",
        "ss.fit(df[[\"User_Score\", \"Publisher\", \"Rating\"]])\n",
        "\n",
        "m = ss.transform(df[[\"User_Score\", \"Publisher\", \"Rating\"]])\n",
        "df[[\"User_Score\", \"Publisher\", \"Rating\"]] = m"
      ],
      "metadata": {
        "id": "TGijBLBKnYM_"
      },
      "execution_count": null,
      "outputs": []
    },
    {
      "cell_type": "markdown",
      "source": [
        "**Vamos transformar todas as Features categóricas em numéricas:**"
      ],
      "metadata": {
        "id": "JtpBBANu-kqx"
      }
    },
    {
      "cell_type": "code",
      "source": [
        "oe =  OrdinalEncoder()\n",
        "oe.fit(df[[\"Name\", \"Platform\", \"Genre\",\"Publisher\", \"User_Score\", \"Rating\"]])\n",
        "\n",
        "df[[\"Name\", \"Platform\", \"Genre\",\"Publisher\", \"User_Score\", \"Rating\"]] = oe.transform(df[[\"Name\", \"Platform\", \"Genre\",\"Publisher\", \"User_Score\", \"Rating\"]])"
      ],
      "metadata": {
        "id": "JxQWQRoAnYNB"
      },
      "execution_count": null,
      "outputs": []
    },
    {
      "cell_type": "markdown",
      "source": [
        "**Vamos escalonar todas as Features, pois a amplitude entre os dados está muito grande, isso pode causar um viés no resultado final:**"
      ],
      "metadata": {
        "id": "udJoLtYDnYNC"
      }
    },
    {
      "cell_type": "code",
      "source": [
        "df.columns"
      ],
      "metadata": {
        "colab": {
          "base_uri": "https://localhost:8080/"
        },
        "id": "nppNIaR1ZHOy",
        "outputId": "2bc65e36-fca7-4e72-cb23-c9cbfdb70522"
      },
      "execution_count": null,
      "outputs": [
        {
          "output_type": "execute_result",
          "data": {
            "text/plain": [
              "Index(['Name', 'Platform', 'Year_of_Release', 'Genre', 'Publisher', 'NA_Sales',\n",
              "       'EU_Sales', 'JP_Sales', 'Other_Sales', 'Global_Sales', 'Critic_Score',\n",
              "       'Critic_Count', 'User_Score', 'User_Count', 'Rating'],\n",
              "      dtype='object')"
            ]
          },
          "metadata": {},
          "execution_count": 20
        }
      ]
    },
    {
      "cell_type": "code",
      "source": [
        "ssc = StandardScaler()\n",
        "ssc.fit(df[['Name', 'Platform', 'Year_of_Release', 'Genre', 'Publisher', 'NA_Sales', 'EU_Sales', 'JP_Sales', 'Other_Sales', 'Critic_Score', 'Critic_Count', 'User_Score', 'User_Count', 'Rating']])\n",
        "h= ssc.transform(df[['Name', 'Platform', 'Year_of_Release', 'Genre', 'Publisher', 'NA_Sales', 'EU_Sales', 'JP_Sales', 'Other_Sales', 'Critic_Score', 'Critic_Count', 'User_Score', 'User_Count', 'Rating']])\n",
        "df[['Name', 'Platform', 'Year_of_Release', 'Genre', 'Publisher', 'NA_Sales', 'EU_Sales', 'JP_Sales', 'Other_Sales', 'Critic_Score', 'Critic_Count', 'User_Score', 'User_Count', 'Rating']] = h"
      ],
      "metadata": {
        "id": "PSApx6KcnYNE"
      },
      "execution_count": null,
      "outputs": []
    },
    {
      "cell_type": "code",
      "source": [
        "X = df.drop(columns=[\"Global_Sales\"]).values\n",
        "y = df[\"Global_Sales\"].values"
      ],
      "metadata": {
        "id": "M_VszZBbrvnG"
      },
      "execution_count": null,
      "outputs": []
    },
    {
      "cell_type": "markdown",
      "source": [
        "# **Keras Regressor**"
      ],
      "metadata": {
        "id": "XVW35x5ZcPem"
      }
    },
    {
      "cell_type": "code",
      "source": [
        "#====================================================================================================\n",
        "X_train, X_test, y_train, y_test = train_test_split(X, y, test_size=0.2, random_state=42)\n",
        "#====================================================================================================\n",
        "def criarRede(optimizer='rmsprop', init='glorot_uniform'):\n",
        "    #k.clear_session()\n",
        "    rn = Sequential([\n",
        "                #1ª camada oculta\n",
        "               tf.keras.layers.Dense(units=7, activation = \"relu\", kernel_initializer = \"random_uniform\", input_dim=X_train.shape[1]), # input_dim = nº de colunas\n",
        "               tf.keras.layers.Dropout(0.2),\n",
        "                #2ª camada oculta\n",
        "               tf.keras.layers.Dense(units=7, activation = \"relu\", kernel_initializer = \"random_uniform\"),\n",
        "               tf.keras.layers.Dropout(0.2),\n",
        "               #Camada de saída\n",
        "               tf.keras.layers.Dense(units= 1, activation = 'linear')])\n",
        "    \n",
        "\n",
        "    rn.compile(optimizer = optimizer, loss = \"mean_absolute_error\", metrics = ['mean_absolute_error'])\n",
        "\n",
        "\n",
        "    return rn\n",
        "#====================================================================================================\n",
        "kr = KerasRegressor(model=criarRede)\n",
        "\n",
        "pipe = Pipeline([('kr', kr)])\n",
        "\n",
        "# ==========================================================\n",
        "#Vamos dividir em splits para ter mais variedade no processamento dos dados.\n",
        "splitter = KFold(n_splits=10, random_state=42, shuffle=True)\n",
        "\n",
        "# Opitmização de Hiperparêmetros\n",
        "params = {\"kr__optimizer\": [\"adam\"],\n",
        "          \"kr__batch_size\": [10],\n",
        "          \"kr__epochs\":[5000]} \n",
        "#====================================================================================================\n",
        "#Motando a grade geral de parâmetros.\n",
        "grid_kr = GridSearchCV(estimator=pipe,\n",
        "                       param_grid=params,\n",
        "                       scoring=\"neg_mean_absolute_error\",\n",
        "                       cv=splitter,\n",
        "                       verbose=10)\n",
        "\n",
        "grid_kr.fit(X_train, y_train)"
      ],
      "metadata": {
        "id": "DB7yUVeLLN9y"
      },
      "execution_count": null,
      "outputs": []
    },
    {
      "cell_type": "code",
      "source": [
        "y_pred = grid_kr.predict(X_test)"
      ],
      "metadata": {
        "id": "RwEmySB9i_81",
        "colab": {
          "base_uri": "https://localhost:8080/"
        },
        "outputId": "6f6614e4-b236-4597-8f53-15f4e923633e"
      },
      "execution_count": null,
      "outputs": [
        {
          "output_type": "stream",
          "name": "stdout",
          "text": [
            "8/8 [==============================] - 0s 1ms/step\n"
          ]
        }
      ]
    },
    {
      "cell_type": "code",
      "source": [
        "tabela= pd.DataFrame()"
      ],
      "metadata": {
        "id": "d9-pmiHrj4Il"
      },
      "execution_count": null,
      "outputs": []
    },
    {
      "cell_type": "code",
      "source": [
        "tabela[\"Valor real\"] = y_test\n",
        "tabela[\"Valor preditivo\"] = y_pred\n",
        "tabela = tabela.sort_index()\n",
        "tabela= tabela.reset_index()\n",
        "tabela "
      ],
      "metadata": {
        "id": "17MDqhGHj_rk",
        "colab": {
          "base_uri": "https://localhost:8080/",
          "height": 424
        },
        "outputId": "fed84f8c-0f0f-4623-c9e4-c6ae99ba5fac"
      },
      "execution_count": null,
      "outputs": [
        {
          "output_type": "execute_result",
          "data": {
            "text/plain": [
              "    index  Valor real  Valor preditivo\n",
              "0       0        4.16         3.922876\n",
              "1       1       12.12         9.014181\n",
              "2       2        3.74         3.655053\n",
              "3       3        4.92         4.386394\n",
              "4       4       10.30         7.814918\n",
              "..    ...         ...              ...\n",
              "66     66        2.78         3.509140\n",
              "67     67        4.62         4.228462\n",
              "68     68        3.90         3.753216\n",
              "69     69        7.39         5.998047\n",
              "70     70        3.76         3.658074\n",
              "\n",
              "[71 rows x 3 columns]"
            ],
            "text/html": [
              "\n",
              "  <div id=\"df-1306fa17-706f-4f1c-910b-0be5f95baf5b\">\n",
              "    <div class=\"colab-df-container\">\n",
              "      <div>\n",
              "<style scoped>\n",
              "    .dataframe tbody tr th:only-of-type {\n",
              "        vertical-align: middle;\n",
              "    }\n",
              "\n",
              "    .dataframe tbody tr th {\n",
              "        vertical-align: top;\n",
              "    }\n",
              "\n",
              "    .dataframe thead th {\n",
              "        text-align: right;\n",
              "    }\n",
              "</style>\n",
              "<table border=\"1\" class=\"dataframe\">\n",
              "  <thead>\n",
              "    <tr style=\"text-align: right;\">\n",
              "      <th></th>\n",
              "      <th>index</th>\n",
              "      <th>Valor real</th>\n",
              "      <th>Valor preditivo</th>\n",
              "    </tr>\n",
              "  </thead>\n",
              "  <tbody>\n",
              "    <tr>\n",
              "      <th>0</th>\n",
              "      <td>0</td>\n",
              "      <td>4.16</td>\n",
              "      <td>3.922876</td>\n",
              "    </tr>\n",
              "    <tr>\n",
              "      <th>1</th>\n",
              "      <td>1</td>\n",
              "      <td>12.12</td>\n",
              "      <td>9.014181</td>\n",
              "    </tr>\n",
              "    <tr>\n",
              "      <th>2</th>\n",
              "      <td>2</td>\n",
              "      <td>3.74</td>\n",
              "      <td>3.655053</td>\n",
              "    </tr>\n",
              "    <tr>\n",
              "      <th>3</th>\n",
              "      <td>3</td>\n",
              "      <td>4.92</td>\n",
              "      <td>4.386394</td>\n",
              "    </tr>\n",
              "    <tr>\n",
              "      <th>4</th>\n",
              "      <td>4</td>\n",
              "      <td>10.30</td>\n",
              "      <td>7.814918</td>\n",
              "    </tr>\n",
              "    <tr>\n",
              "      <th>...</th>\n",
              "      <td>...</td>\n",
              "      <td>...</td>\n",
              "      <td>...</td>\n",
              "    </tr>\n",
              "    <tr>\n",
              "      <th>66</th>\n",
              "      <td>66</td>\n",
              "      <td>2.78</td>\n",
              "      <td>3.509140</td>\n",
              "    </tr>\n",
              "    <tr>\n",
              "      <th>67</th>\n",
              "      <td>67</td>\n",
              "      <td>4.62</td>\n",
              "      <td>4.228462</td>\n",
              "    </tr>\n",
              "    <tr>\n",
              "      <th>68</th>\n",
              "      <td>68</td>\n",
              "      <td>3.90</td>\n",
              "      <td>3.753216</td>\n",
              "    </tr>\n",
              "    <tr>\n",
              "      <th>69</th>\n",
              "      <td>69</td>\n",
              "      <td>7.39</td>\n",
              "      <td>5.998047</td>\n",
              "    </tr>\n",
              "    <tr>\n",
              "      <th>70</th>\n",
              "      <td>70</td>\n",
              "      <td>3.76</td>\n",
              "      <td>3.658074</td>\n",
              "    </tr>\n",
              "  </tbody>\n",
              "</table>\n",
              "<p>71 rows × 3 columns</p>\n",
              "</div>\n",
              "      <button class=\"colab-df-convert\" onclick=\"convertToInteractive('df-1306fa17-706f-4f1c-910b-0be5f95baf5b')\"\n",
              "              title=\"Convert this dataframe to an interactive table.\"\n",
              "              style=\"display:none;\">\n",
              "        \n",
              "  <svg xmlns=\"http://www.w3.org/2000/svg\" height=\"24px\"viewBox=\"0 0 24 24\"\n",
              "       width=\"24px\">\n",
              "    <path d=\"M0 0h24v24H0V0z\" fill=\"none\"/>\n",
              "    <path d=\"M18.56 5.44l.94 2.06.94-2.06 2.06-.94-2.06-.94-.94-2.06-.94 2.06-2.06.94zm-11 1L8.5 8.5l.94-2.06 2.06-.94-2.06-.94L8.5 2.5l-.94 2.06-2.06.94zm10 10l.94 2.06.94-2.06 2.06-.94-2.06-.94-.94-2.06-.94 2.06-2.06.94z\"/><path d=\"M17.41 7.96l-1.37-1.37c-.4-.4-.92-.59-1.43-.59-.52 0-1.04.2-1.43.59L10.3 9.45l-7.72 7.72c-.78.78-.78 2.05 0 2.83L4 21.41c.39.39.9.59 1.41.59.51 0 1.02-.2 1.41-.59l7.78-7.78 2.81-2.81c.8-.78.8-2.07 0-2.86zM5.41 20L4 18.59l7.72-7.72 1.47 1.35L5.41 20z\"/>\n",
              "  </svg>\n",
              "      </button>\n",
              "      \n",
              "  <style>\n",
              "    .colab-df-container {\n",
              "      display:flex;\n",
              "      flex-wrap:wrap;\n",
              "      gap: 12px;\n",
              "    }\n",
              "\n",
              "    .colab-df-convert {\n",
              "      background-color: #E8F0FE;\n",
              "      border: none;\n",
              "      border-radius: 50%;\n",
              "      cursor: pointer;\n",
              "      display: none;\n",
              "      fill: #1967D2;\n",
              "      height: 32px;\n",
              "      padding: 0 0 0 0;\n",
              "      width: 32px;\n",
              "    }\n",
              "\n",
              "    .colab-df-convert:hover {\n",
              "      background-color: #E2EBFA;\n",
              "      box-shadow: 0px 1px 2px rgba(60, 64, 67, 0.3), 0px 1px 3px 1px rgba(60, 64, 67, 0.15);\n",
              "      fill: #174EA6;\n",
              "    }\n",
              "\n",
              "    [theme=dark] .colab-df-convert {\n",
              "      background-color: #3B4455;\n",
              "      fill: #D2E3FC;\n",
              "    }\n",
              "\n",
              "    [theme=dark] .colab-df-convert:hover {\n",
              "      background-color: #434B5C;\n",
              "      box-shadow: 0px 1px 3px 1px rgba(0, 0, 0, 0.15);\n",
              "      filter: drop-shadow(0px 1px 2px rgba(0, 0, 0, 0.3));\n",
              "      fill: #FFFFFF;\n",
              "    }\n",
              "  </style>\n",
              "\n",
              "      <script>\n",
              "        const buttonEl =\n",
              "          document.querySelector('#df-1306fa17-706f-4f1c-910b-0be5f95baf5b button.colab-df-convert');\n",
              "        buttonEl.style.display =\n",
              "          google.colab.kernel.accessAllowed ? 'block' : 'none';\n",
              "\n",
              "        async function convertToInteractive(key) {\n",
              "          const element = document.querySelector('#df-1306fa17-706f-4f1c-910b-0be5f95baf5b');\n",
              "          const dataTable =\n",
              "            await google.colab.kernel.invokeFunction('convertToInteractive',\n",
              "                                                     [key], {});\n",
              "          if (!dataTable) return;\n",
              "\n",
              "          const docLinkHtml = 'Like what you see? Visit the ' +\n",
              "            '<a target=\"_blank\" href=https://colab.research.google.com/notebooks/data_table.ipynb>data table notebook</a>'\n",
              "            + ' to learn more about interactive tables.';\n",
              "          element.innerHTML = '';\n",
              "          dataTable['output_type'] = 'display_data';\n",
              "          await google.colab.output.renderOutput(dataTable, element);\n",
              "          const docLink = document.createElement('div');\n",
              "          docLink.innerHTML = docLinkHtml;\n",
              "          element.appendChild(docLink);\n",
              "        }\n",
              "      </script>\n",
              "    </div>\n",
              "  </div>\n",
              "  "
            ]
          },
          "metadata": {},
          "execution_count": 26
        }
      ]
    },
    {
      "cell_type": "markdown",
      "source": [
        "Salvando a tabela"
      ],
      "metadata": {
        "id": "QCkmI4IC6whA"
      }
    },
    {
      "cell_type": "code",
      "source": [
        "tabela.to_csv(\"08_games_predição.csv\")"
      ],
      "metadata": {
        "id": "SpuoNd-n6v1u"
      },
      "execution_count": null,
      "outputs": []
    },
    {
      "cell_type": "code",
      "source": [
        "lista = []\n",
        "for c in range(tabela.shape[0]):\n",
        "  if tabela.loc[[c]].values[0][2] < tabela.loc[[c]].values[0][1]:\n",
        "      valor = (tabela.loc[[c]].values[0][2] / tabela.loc[[c]].values[0][1])*100\n",
        "      lista.append(valor)\n",
        "  elif tabela.loc[[c]].values[0][2] > tabela.loc[[c]].values[0][1]:\n",
        "      valor = (tabela.loc[[c]].values[0][1] / tabela.loc[[c]].values[0][2])*100\n",
        "      lista.append(valor)\n",
        "media = np.mean(lista)\n",
        "print(f\"Teve uma média de acerto de {media:.2f}%\")"
      ],
      "metadata": {
        "colab": {
          "base_uri": "https://localhost:8080/"
        },
        "id": "wEpLPJnklI6c",
        "outputId": "f015efcb-8121-4840-d963-c97770fcd6d6"
      },
      "execution_count": null,
      "outputs": [
        {
          "output_type": "stream",
          "name": "stdout",
          "text": [
            "Teve uma média de acerto de 84.07%\n"
          ]
        }
      ]
    },
    {
      "cell_type": "code",
      "source": [
        "plt.figure(figsize=(40,8))\n",
        "x_ax = range(len(y_test))\n",
        "plt.plot(x_ax, y_test, label=\"Valores reais\")\n",
        "plt.plot(x_ax, y_pred, label=\"Valores preditivos\")\n",
        "plt.title(\"Comparação dos valores reais e preditivos\")\n",
        "plt.legend()\n",
        "plt.show();"
      ],
      "metadata": {
        "id": "aolNC8EIjZo1",
        "colab": {
          "base_uri": "https://localhost:8080/",
          "height": 399
        },
        "outputId": "4a6d596b-1351-492b-d835-7e75e21dc84e"
      },
      "execution_count": null,
      "outputs": [
        {
          "output_type": "display_data",
          "data": {
            "text/plain": [
              "<Figure size 2880x576 with 1 Axes>"
            ],
            "image/png": "[encoded data removed]"
          },
          "metadata": {
            "needs_background": "light"
          }
        }
      ]
    },
    {
      "cell_type": "code",
      "execution_count": null,
      "metadata": {
        "id": "4jYoKqiqc8bF"
      },
      "outputs": [],
      "source": [
        "import pickle"
      ]
    },
    {
      "cell_type": "code",
      "execution_count": null,
      "metadata": {
        "id": "bw9XnvX5c8bG"
      },
      "outputs": [],
      "source": [
        "with open(\"grid_kr.pkl\", \"wb\") as f:\n",
        "    pickle.dump(grid_kr, f)"
      ]
    },
    {
      "cell_type": "code",
      "execution_count": null,
      "metadata": {
        "id": "Q6iGYok8c8bG"
      },
      "outputs": [],
      "source": [
        "with open(\"grid_kr.pkl\", \"rb\") as f:\n",
        "    \n",
        "    grid_kr = pickle.load(f)"
      ]
    }
  ]
}